{
 "cells": [
  {
   "cell_type": "code",
   "execution_count": 2,
   "metadata": {
    "colab": {
     "base_uri": "https://localhost:8080/"
    },
    "executionInfo": {
     "elapsed": 61639,
     "status": "ok",
     "timestamp": 1733149453831,
     "user": {
      "displayName": "Walter Di Sabatino",
      "userId": "03659477704223957380"
     },
     "user_tz": -60
    },
    "id": "vqxyDVyFubCv",
    "outputId": "c127a4c9-a627-40a1-d728-2288f1c7056a"
   },
   "outputs": [
    {
     "name": "stdout",
     "output_type": "stream",
     "text": [
      "Mounted at /content/drive\n"
     ]
    }
   ],
   "source": [
    "from google.colab import drive\n",
    "drive.mount('/content/drive')\n"
   ]
  },
  {
   "cell_type": "code",
   "execution_count": 3,
   "metadata": {
    "colab": {
     "base_uri": "https://localhost:8080/"
    },
    "executionInfo": {
     "elapsed": 2603,
     "status": "ok",
     "timestamp": 1733149456428,
     "user": {
      "displayName": "Walter Di Sabatino",
      "userId": "03659477704223957380"
     },
     "user_tz": -60
    },
    "id": "DIQ4bQO1uaPC",
    "outputId": "27f92489-71f3-4595-816a-e883239ea84e"
   },
   "outputs": [
    {
     "name": "stdout",
     "output_type": "stream",
     "text": [
      "Requirement already satisfied: numpy in /usr/local/lib/python3.10/dist-packages (1.26.4)\n",
      "Requirement already satisfied: pandas in /usr/local/lib/python3.10/dist-packages (2.2.2)\n",
      "Requirement already satisfied: nltk in /usr/local/lib/python3.10/dist-packages (3.9.1)\n",
      "Requirement already satisfied: tabulate in /usr/local/lib/python3.10/dist-packages (0.9.0)\n",
      "Requirement already satisfied: tqdm in /usr/local/lib/python3.10/dist-packages (4.66.6)\n",
      "Requirement already satisfied: scikit-learn in /usr/local/lib/python3.10/dist-packages (1.5.2)\n",
      "Requirement already satisfied: torch in /usr/local/lib/python3.10/dist-packages (2.5.1+cu121)\n",
      "Requirement already satisfied: transformers in /usr/local/lib/python3.10/dist-packages (4.46.2)\n",
      "Requirement already satisfied: python-dateutil>=2.8.2 in /usr/local/lib/python3.10/dist-packages (from pandas) (2.8.2)\n",
      "Requirement already satisfied: pytz>=2020.1 in /usr/local/lib/python3.10/dist-packages (from pandas) (2024.2)\n",
      "Requirement already satisfied: tzdata>=2022.7 in /usr/local/lib/python3.10/dist-packages (from pandas) (2024.2)\n",
      "Requirement already satisfied: click in /usr/local/lib/python3.10/dist-packages (from nltk) (8.1.7)\n",
      "Requirement already satisfied: joblib in /usr/local/lib/python3.10/dist-packages (from nltk) (1.4.2)\n",
      "Requirement already satisfied: regex>=2021.8.3 in /usr/local/lib/python3.10/dist-packages (from nltk) (2024.9.11)\n",
      "Requirement already satisfied: scipy>=1.6.0 in /usr/local/lib/python3.10/dist-packages (from scikit-learn) (1.13.1)\n",
      "Requirement already satisfied: threadpoolctl>=3.1.0 in /usr/local/lib/python3.10/dist-packages (from scikit-learn) (3.5.0)\n",
      "Requirement already satisfied: filelock in /usr/local/lib/python3.10/dist-packages (from torch) (3.16.1)\n",
      "Requirement already satisfied: typing-extensions>=4.8.0 in /usr/local/lib/python3.10/dist-packages (from torch) (4.12.2)\n",
      "Requirement already satisfied: networkx in /usr/local/lib/python3.10/dist-packages (from torch) (3.4.2)\n",
      "Requirement already satisfied: jinja2 in /usr/local/lib/python3.10/dist-packages (from torch) (3.1.4)\n",
      "Requirement already satisfied: fsspec in /usr/local/lib/python3.10/dist-packages (from torch) (2024.10.0)\n",
      "Requirement already satisfied: sympy==1.13.1 in /usr/local/lib/python3.10/dist-packages (from torch) (1.13.1)\n",
      "Requirement already satisfied: mpmath<1.4,>=1.1.0 in /usr/local/lib/python3.10/dist-packages (from sympy==1.13.1->torch) (1.3.0)\n",
      "Requirement already satisfied: huggingface-hub<1.0,>=0.23.2 in /usr/local/lib/python3.10/dist-packages (from transformers) (0.26.2)\n",
      "Requirement already satisfied: packaging>=20.0 in /usr/local/lib/python3.10/dist-packages (from transformers) (24.2)\n",
      "Requirement already satisfied: pyyaml>=5.1 in /usr/local/lib/python3.10/dist-packages (from transformers) (6.0.2)\n",
      "Requirement already satisfied: requests in /usr/local/lib/python3.10/dist-packages (from transformers) (2.32.3)\n",
      "Requirement already satisfied: safetensors>=0.4.1 in /usr/local/lib/python3.10/dist-packages (from transformers) (0.4.5)\n",
      "Requirement already satisfied: tokenizers<0.21,>=0.20 in /usr/local/lib/python3.10/dist-packages (from transformers) (0.20.3)\n",
      "Requirement already satisfied: six>=1.5 in /usr/local/lib/python3.10/dist-packages (from python-dateutil>=2.8.2->pandas) (1.16.0)\n",
      "Requirement already satisfied: MarkupSafe>=2.0 in /usr/local/lib/python3.10/dist-packages (from jinja2->torch) (3.0.2)\n",
      "Requirement already satisfied: charset-normalizer<4,>=2 in /usr/local/lib/python3.10/dist-packages (from requests->transformers) (3.4.0)\n",
      "Requirement already satisfied: idna<4,>=2.5 in /usr/local/lib/python3.10/dist-packages (from requests->transformers) (3.10)\n",
      "Requirement already satisfied: urllib3<3,>=1.21.1 in /usr/local/lib/python3.10/dist-packages (from requests->transformers) (2.2.3)\n",
      "Requirement already satisfied: certifi>=2017.4.17 in /usr/local/lib/python3.10/dist-packages (from requests->transformers) (2024.8.30)\n"
     ]
    }
   ],
   "source": [
    "!pip install numpy pandas nltk tabulate tqdm scikit-learn torch transformers"
   ]
  },
  {
   "cell_type": "code",
   "execution_count": 4,
   "metadata": {
    "executionInfo": {
     "elapsed": 24295,
     "status": "ok",
     "timestamp": 1733149491557,
     "user": {
      "displayName": "Walter Di Sabatino",
      "userId": "03659477704223957380"
     },
     "user_tz": -60
    },
    "id": "Cv8qmpXpt6jp"
   },
   "outputs": [],
   "source": [
    "# Import standard libraries\n",
    "import json\n",
    "import time\n",
    "import datetime\n",
    "import gc\n",
    "import random\n",
    "import re\n",
    "\n",
    "# Import data handling libraries\n",
    "import numpy as np\n",
    "import pandas as pd\n",
    "\n",
    "# Import NLP libraries\n",
    "import nltk\n",
    "from nltk.corpus import stopwords\n",
    "\n",
    "# Import utilities for displaying and progress tracking\n",
    "from tabulate import tabulate\n",
    "from tqdm import trange\n",
    "\n",
    "# Import machine learning libraries\n",
    "from sklearn.model_selection import train_test_split\n",
    "from sklearn.preprocessing import LabelEncoder\n",
    "\n",
    "from sklearn.metrics import classification_report\n",
    "\n",
    "# Import PyTorch libraries\n",
    "import torch\n",
    "import torch.nn as nn\n",
    "from torch.utils.data import (\n",
    "    TensorDataset,\n",
    "    DataLoader,\n",
    "    RandomSampler,\n",
    "    SequentialSampler,\n",
    "    random_split\n",
    ")\n",
    "\n",
    "\n",
    "# Import Transformers library components\n",
    "import transformers\n",
    "from transformers import (\n",
    "    BertForSequenceClassification,\n",
    "    AdamW,\n",
    "    BertConfig,\n",
    "    BertTokenizer,\n",
    "    get_linear_schedule_with_warmup\n",
    ")\n"
   ]
  },
  {
   "cell_type": "code",
   "execution_count": 5,
   "metadata": {
    "colab": {
     "base_uri": "https://localhost:8080/"
    },
    "executionInfo": {
     "elapsed": 10,
     "status": "ok",
     "timestamp": 1733149491557,
     "user": {
      "displayName": "Walter Di Sabatino",
      "userId": "03659477704223957380"
     },
     "user_tz": -60
    },
    "id": "wVGmFo3Jt6jt",
    "outputId": "fc988e21-bd03-4fbf-e405-b4bcba999c37"
   },
   "outputs": [
    {
     "data": {
      "text/plain": [
       "device(type='cuda', index=0)"
      ]
     },
     "execution_count": 5,
     "metadata": {},
     "output_type": "execute_result"
    }
   ],
   "source": [
    "#verificare la disponibilità di cuda\n",
    "device = torch.device(\"cuda:0\" if torch.cuda.is_available() else \"cpu\")\n",
    "device"
   ]
  },
  {
   "cell_type": "markdown",
   "metadata": {
    "id": "Z8UaSgRGt6jw"
   },
   "source": [
    "## ETL"
   ]
  },
  {
   "cell_type": "code",
   "execution_count": 6,
   "metadata": {
    "colab": {
     "base_uri": "https://localhost:8080/"
    },
    "executionInfo": {
     "elapsed": 359,
     "status": "ok",
     "timestamp": 1733149491908,
     "user": {
      "displayName": "Walter Di Sabatino",
      "userId": "03659477704223957380"
     },
     "user_tz": -60
    },
    "id": "WxhGV14mt6jy",
    "outputId": "23372d80-9e99-4ab3-da54-426200f76f65"
   },
   "outputs": [
    {
     "name": "stderr",
     "output_type": "stream",
     "text": [
      "[nltk_data] Downloading package stopwords to /root/nltk_data...\n",
      "[nltk_data]   Unzipping corpora/stopwords.zip.\n"
     ]
    }
   ],
   "source": [
    "# Scarica le stopwords\n",
    "nltk.download('stopwords')\n",
    "sw = stopwords.words('english')\n",
    "\n",
    "# Definizione della funzione clean_text\n",
    "def clean_text(text):\n",
    "    text = text.lower()\n",
    "    text = re.sub(r\"[^a-zA-Z?.!,¿]+\", \" \", text)\n",
    "    text = re.sub(r\"http\\S+\", \"\", text)\n",
    "    html = re.compile(r'<.*?>')\n",
    "    text = html.sub(r'', text)\n",
    "    punctuations = '@#!?+&*[]-%.:/();$=><|{}^' + \"'`\" + '_'\n",
    "    for p in punctuations:\n",
    "        text = text.replace(p, '')\n",
    "    text = [word.lower() for word in text.split() if word.lower() not in sw]\n",
    "    text = \" \".join(text)\n",
    "    emoji_pattern = re.compile(\"[\"\n",
    "                               u\"\\U0001F600-\\U0001F64F\"\n",
    "                               u\"\\U0001F300-\\U0001F5FF\"\n",
    "                               u\"\\U0001F680-\\U0001F6FF\"\n",
    "                               u\"\\U0001F1E0-\\U0001F1FF\"\n",
    "                               u\"\\U00002702-\\U000027B0\"\n",
    "                               u\"\\U000024C2-\\U0001F251\"\n",
    "                               \"]+\", flags=re.UNICODE)\n",
    "    text = emoji_pattern.sub(r'', text)\n",
    "    return text"
   ]
  },
  {
   "cell_type": "code",
   "execution_count": 36,
   "metadata": {
    "colab": {
     "base_uri": "https://localhost:8080/",
     "height": 241
    },
    "executionInfo": {
     "elapsed": 2689,
     "status": "ok",
     "timestamp": 1733152915034,
     "user": {
      "displayName": "Walter Di Sabatino",
      "userId": "03659477704223957380"
     },
     "user_tz": -60
    },
    "id": "Lg-YVqxmt6j0",
    "outputId": "e6c61a9b-a880-4cd9-9802-55344fdded9d"
   },
   "outputs": [
    {
     "data": {
      "text/html": [
       "<div>\n",
       "<style scoped>\n",
       "    .dataframe tbody tr th:only-of-type {\n",
       "        vertical-align: middle;\n",
       "    }\n",
       "\n",
       "    .dataframe tbody tr th {\n",
       "        vertical-align: top;\n",
       "    }\n",
       "\n",
       "    .dataframe thead th {\n",
       "        text-align: right;\n",
       "    }\n",
       "</style>\n",
       "<table border=\"1\" class=\"dataframe\">\n",
       "  <thead>\n",
       "    <tr style=\"text-align: right;\">\n",
       "      <th></th>\n",
       "      <th>count</th>\n",
       "    </tr>\n",
       "    <tr>\n",
       "      <th>label</th>\n",
       "      <th></th>\n",
       "    </tr>\n",
       "  </thead>\n",
       "  <tbody>\n",
       "    <tr>\n",
       "      <th>2</th>\n",
       "      <td>30000</td>\n",
       "    </tr>\n",
       "    <tr>\n",
       "      <th>3</th>\n",
       "      <td>30000</td>\n",
       "    </tr>\n",
       "    <tr>\n",
       "      <th>1</th>\n",
       "      <td>30000</td>\n",
       "    </tr>\n",
       "    <tr>\n",
       "      <th>0</th>\n",
       "      <td>30000</td>\n",
       "    </tr>\n",
       "  </tbody>\n",
       "</table>\n",
       "</div><br><label><b>dtype:</b> int64</label>"
      ],
      "text/plain": [
       "label\n",
       "2    30000\n",
       "3    30000\n",
       "1    30000\n",
       "0    30000\n",
       "Name: count, dtype: int64"
      ]
     },
     "execution_count": 36,
     "metadata": {},
     "output_type": "execute_result"
    }
   ],
   "source": [
    "splits = {'train': 'data/train-00000-of-00001.parquet', 'test': 'data/test-00000-of-00001.parquet'}\n",
    "df = pd.read_parquet(\"hf://datasets/wangrongsheng/ag_news/\" + splits[\"train\"])\n",
    "df_test = pd.read_parquet(\"hf://datasets/wangrongsheng/ag_news/\" + splits[\"test\"])\n",
    "\n",
    "# World (0), Sports (1), Business (2), Sci/Tech (3).\n",
    "\n",
    "df['label'].value_counts()"
   ]
  },
  {
   "cell_type": "code",
   "execution_count": 65,
   "metadata": {
    "colab": {
     "base_uri": "https://localhost:8080/"
    },
    "executionInfo": {
     "elapsed": 420,
     "status": "ok",
     "timestamp": 1733154121257,
     "user": {
      "displayName": "Walter Di Sabatino",
      "userId": "03659477704223957380"
     },
     "user_tz": -60
    },
    "id": "lBgsp3DWt6j2",
    "outputId": "9697b572-24e0-42f9-d968-b19fdfa229b6"
   },
   "outputs": [
    {
     "name": "stdout",
     "output_type": "stream",
     "text": [
      "label\n",
      "0    31038\n",
      "3    31009\n",
      "2    30986\n",
      "1    30967\n",
      "Name: count, dtype: int64\n",
      "label\n",
      "0    5000\n",
      "1    5000\n",
      "2    5000\n",
      "3    5000\n",
      "Name: count, dtype: int64\n"
     ]
    },
    {
     "name": "stderr",
     "output_type": "stream",
     "text": [
      "<ipython-input-65-1936d8289086>:9: DeprecationWarning: DataFrameGroupBy.apply operated on the grouping columns. This behavior is deprecated, and in a future version of pandas the grouping columns will be excluded from the operation. Either pass `include_groups=False` to exclude the groupings or explicitly select the grouping columns after groupby to silence this warning.\n",
      "  df_final = df_combined.groupby('label').apply(lambda x: x.sample(n=5000, random_state=42))\n"
     ]
    }
   ],
   "source": [
    "# Uniamo i due dataset\n",
    "df_combined = pd.concat([df, df_test])\n",
    "\n",
    "# Contiamo le occorrenze di ciascuna classe nel dataset combinato\n",
    "class_counts = df_combined['label'].value_counts()\n",
    "print(class_counts)\n",
    "\n",
    "# Per ogni classe, prendiamo solo 4400 elementi\n",
    "df_final = df_combined.groupby('label').apply(lambda x: x.sample(n=5000, random_state=42))\n",
    "\n",
    "# Rimuoviamo l'indice multi-livello creato dal groupby\n",
    "df_final = df_final.reset_index(drop=True)\n",
    "\n",
    "# Controlliamo che abbiamo 4400 elementi per classe\n",
    "print(df_final['label'].value_counts())"
   ]
  },
  {
   "cell_type": "code",
   "execution_count": 66,
   "metadata": {
    "executionInfo": {
     "elapsed": 3102,
     "status": "ok",
     "timestamp": 1733154126599,
     "user": {
      "displayName": "Walter Di Sabatino",
      "userId": "03659477704223957380"
     },
     "user_tz": -60
    },
    "id": "4XBuZxHAt6j4"
   },
   "outputs": [],
   "source": [
    "df_final['text'] = df_final['text'].apply(clean_text)"
   ]
  },
  {
   "cell_type": "code",
   "execution_count": 67,
   "metadata": {
    "executionInfo": {
     "elapsed": 8,
     "status": "ok",
     "timestamp": 1733154126600,
     "user": {
      "displayName": "Walter Di Sabatino",
      "userId": "03659477704223957380"
     },
     "user_tz": -60
    },
    "id": "gzpWD0A_t6j5"
   },
   "outputs": [],
   "source": [
    "test_val_size = 0.1 * len(df_final)"
   ]
  },
  {
   "cell_type": "code",
   "execution_count": 68,
   "metadata": {
    "colab": {
     "base_uri": "https://localhost:8080/"
    },
    "executionInfo": {
     "elapsed": 6,
     "status": "ok",
     "timestamp": 1733154126600,
     "user": {
      "displayName": "Walter Di Sabatino",
      "userId": "03659477704223957380"
     },
     "user_tz": -60
    },
    "id": "g_esX2SLt6j6",
    "outputId": "30ac9f71-dd2b-4bca-8499-85ae28231a8b"
   },
   "outputs": [
    {
     "name": "stdout",
     "output_type": "stream",
     "text": [
      "Training set size: (18000, 2)\n",
      "Test set size: (2000, 2)\n"
     ]
    }
   ],
   "source": [
    "# Eseguiamo lo split 90% - 10%\n",
    "df_train, df_test = train_test_split(df_final, test_size= test_val_size / len(df_final), random_state=42)\n",
    "\n",
    "# Verifichiamo le dimensioni dei dataset risultanti\n",
    "print(f\"Training set size: {df_train.shape}\")\n",
    "print(f\"Test set size: {df_test.shape}\")\n"
   ]
  },
  {
   "cell_type": "code",
   "execution_count": 69,
   "metadata": {
    "executionInfo": {
     "elapsed": 5,
     "status": "ok",
     "timestamp": 1733154127694,
     "user": {
      "displayName": "Walter Di Sabatino",
      "userId": "03659477704223957380"
     },
     "user_tz": -60
    },
    "id": "c3hbqlh7t6j7"
   },
   "outputs": [],
   "source": [
    "sentences = list(df_train['text'])\n",
    "labels = list(df_train['label'])"
   ]
  },
  {
   "cell_type": "markdown",
   "metadata": {
    "id": "wah_gkXOt6kC"
   },
   "source": [
    "## Tokenizzazione"
   ]
  },
  {
   "cell_type": "code",
   "execution_count": 70,
   "metadata": {
    "executionInfo": {
     "elapsed": 669,
     "status": "ok",
     "timestamp": 1733154129689,
     "user": {
      "displayName": "Walter Di Sabatino",
      "userId": "03659477704223957380"
     },
     "user_tz": -60
    },
    "id": "cQULO9DVt6kC"
   },
   "outputs": [],
   "source": [
    "tokenizer = BertTokenizer.from_pretrained('bert-base-uncased', do_lower_case=True)"
   ]
  },
  {
   "cell_type": "code",
   "execution_count": 71,
   "metadata": {
    "colab": {
     "base_uri": "https://localhost:8080/"
    },
    "executionInfo": {
     "elapsed": 379,
     "status": "ok",
     "timestamp": 1733154130065,
     "user": {
      "displayName": "Walter Di Sabatino",
      "userId": "03659477704223957380"
     },
     "user_tz": -60
    },
    "id": "wJgXTvZXt6kD",
    "outputId": "e7a12485-5610-4266-e1f3-1c0849dcdadb"
   },
   "outputs": [
    {
     "name": "stdout",
     "output_type": "stream",
     "text": [
      " Original:  , internet cafes closed china chinese local governments closed internet cafes fined operators total yuan february august year\n",
      "╒═════════════╤═════════════╕\n",
      "│ Tokens      │   Token IDs │\n",
      "╞═════════════╪═════════════╡\n",
      "│ ,           │        1010 │\n",
      "├─────────────┼─────────────┤\n",
      "│ internet    │        4274 │\n",
      "├─────────────┼─────────────┤\n",
      "│ cafes       │       23812 │\n",
      "├─────────────┼─────────────┤\n",
      "│ closed      │        2701 │\n",
      "├─────────────┼─────────────┤\n",
      "│ china       │        2859 │\n",
      "├─────────────┼─────────────┤\n",
      "│ chinese     │        2822 │\n",
      "├─────────────┼─────────────┤\n",
      "│ local       │        2334 │\n",
      "├─────────────┼─────────────┤\n",
      "│ governments │        6867 │\n",
      "├─────────────┼─────────────┤\n",
      "│ closed      │        2701 │\n",
      "├─────────────┼─────────────┤\n",
      "│ internet    │        4274 │\n",
      "├─────────────┼─────────────┤\n",
      "│ cafes       │       23812 │\n",
      "├─────────────┼─────────────┤\n",
      "│ fined       │       16981 │\n",
      "├─────────────┼─────────────┤\n",
      "│ operators   │        9224 │\n",
      "├─────────────┼─────────────┤\n",
      "│ total       │        2561 │\n",
      "├─────────────┼─────────────┤\n",
      "│ yuan        │       11237 │\n",
      "├─────────────┼─────────────┤\n",
      "│ february    │        2337 │\n",
      "├─────────────┼─────────────┤\n",
      "│ august      │        2257 │\n",
      "├─────────────┼─────────────┤\n",
      "│ year        │        2095 │\n",
      "╘═════════════╧═════════════╛\n"
     ]
    }
   ],
   "source": [
    "index=0\n",
    "print(' Original: ', sentences[index])\n",
    "\n",
    "table = np.array([tokenizer.tokenize(sentences[index]),\n",
    "                    tokenizer.convert_tokens_to_ids(tokenizer.tokenize(sentences[index]))]).T\n",
    "print(tabulate(table,headers = ['Tokens', 'Token IDs'],tablefmt = 'fancy_grid'))\n"
   ]
  },
  {
   "cell_type": "markdown",
   "metadata": {
    "id": "yXO9GZ0tUrWN"
   },
   "source": [
    "## Add special token"
   ]
  },
  {
   "cell_type": "code",
   "execution_count": 72,
   "metadata": {
    "colab": {
     "base_uri": "https://localhost:8080/"
    },
    "executionInfo": {
     "elapsed": 14552,
     "status": "ok",
     "timestamp": 1733154144613,
     "user": {
      "displayName": "Walter Di Sabatino",
      "userId": "03659477704223957380"
     },
     "user_tz": -60
    },
    "id": "x5xV-ETmt6kD",
    "outputId": "316623e7-7b36-4e4d-f409-cd4d03d33294"
   },
   "outputs": [
    {
     "name": "stdout",
     "output_type": "stream",
     "text": [
      "Max sentence length:  171\n"
     ]
    }
   ],
   "source": [
    "max_len = 0\n",
    "\n",
    "# For every sentence...\n",
    "for sentence in sentences:\n",
    "\n",
    "    # Tokenize the text and add `[CLS]` and `[SEP]` tokens.\n",
    "    input_ids = tokenizer.encode(sentence, add_special_tokens=True)\n",
    "\n",
    "    # Update the maximum sentence length.\n",
    "    max_len = max(max_len, len(input_ids))\n",
    "\n",
    "print('Max sentence length: ', max_len)"
   ]
  },
  {
   "cell_type": "code",
   "execution_count": 104,
   "metadata": {
    "colab": {
     "base_uri": "https://localhost:8080/"
    },
    "executionInfo": {
     "elapsed": 2023,
     "status": "ok",
     "timestamp": 1733159156669,
     "user": {
      "displayName": "Walter Di Sabatino",
      "userId": "03659477704223957380"
     },
     "user_tz": -60
    },
    "id": "PM3xLoLoUo9U",
    "outputId": "b7b0212b-d583-4561-f915-01d07216cca3"
   },
   "outputs": [
    {
     "name": "stderr",
     "output_type": "stream",
     "text": [
      "/usr/local/lib/python3.10/dist-packages/transformers/tokenization_utils_base.py:2834: FutureWarning: The `pad_to_max_length` argument is deprecated and will be removed in a future version, use `padding=True` or `padding='longest'` to pad to the longest sequence in the batch, or use `padding='max_length'` to pad to a max length. In this case, you can give a specific length with `max_length` (e.g. `max_length=45`) or leave max_length to None to pad to the maximal input size of the model (e.g. 512 for Bert).\n",
      "  warnings.warn(\n"
     ]
    }
   ],
   "source": [
    "MAX_LEN = 128\n",
    "#Tokenizza tutte le frasi e mappa i tokens con i loro IDs\n",
    "input_ids = []\n",
    "attention_masks = []\n",
    "\n",
    "for sent in sentences:\n",
    "    # Quello che `encode_plus` farà:\n",
    "    #   1. Tokenizza la frase\n",
    "    #   2. Aggiunge il token `[CLS]` all'inizio della frase\n",
    "    #   3. Aggiunge il token `[SEP]` alla fine della frase\n",
    "    #   4. Mappa il token con il loro ID\n",
    "    #   5. Esegue il padding o tronca la frase affinche la sua lunghezza sia pari a `max_length`\n",
    "    #   6. Crea le attention masks per il token [PAD]\n",
    "    encoded_dict = tokenizer.encode_plus(\n",
    "                        sent,\n",
    "                        add_special_tokens = True,      #Aggiunge i tokens '[CLS]' e '[SEP]'\n",
    "                        max_length = MAX_LEN,           #Setta la lunghezza massima\n",
    "                        pad_to_max_length = True,       #Se necessaio esegue il padding\n",
    "                        return_attention_mask = True,   #Costruisce le attn. masks\n",
    "                        return_tensors = 'pt',          #Restituisce un tensore di pytorch\n",
    "                   )\n",
    "\n",
    "    #Aggiunge la frase codificata alla lista degli input\n",
    "    input_ids.append(encoded_dict['input_ids'])\n",
    "\n",
    "    #E aggiunge le attention mask alla lista (semplice distinzione tra padding o meno)\n",
    "    attention_masks.append(encoded_dict['attention_mask'])\n",
    "\n",
    "#Converte la lista in un tensore\n",
    "input_ids = torch.cat(input_ids, dim=0)\n",
    "attention_masks = torch.cat(attention_masks, dim=0)\n",
    "labels = torch.tensor(labels)"
   ]
  },
  {
   "cell_type": "code",
   "execution_count": 73,
   "metadata": {
    "colab": {
     "base_uri": "https://localhost:8080/"
    },
    "executionInfo": {
     "elapsed": 17808,
     "status": "ok",
     "timestamp": 1733154162414,
     "user": {
      "displayName": "Walter Di Sabatino",
      "userId": "03659477704223957380"
     },
     "user_tz": -60
    },
    "id": "Gh1zJdygt6kE",
    "outputId": "7bdf6513-5dcb-4398-ca06-808cce64b5a9"
   },
   "outputs": [
    {
     "name": "stderr",
     "output_type": "stream",
     "text": [
      "/usr/local/lib/python3.10/dist-packages/transformers/tokenization_utils_base.py:2834: FutureWarning: The `pad_to_max_length` argument is deprecated and will be removed in a future version, use `padding=True` or `padding='longest'` to pad to the longest sequence in the batch, or use `padding='max_length'` to pad to a max length. In this case, you can give a specific length with `max_length` (e.g. `max_length=45`) or leave max_length to None to pad to the maximal input size of the model (e.g. 512 for Bert).\n",
      "  warnings.warn(\n"
     ]
    }
   ],
   "source": [
    "input_ids = []\n",
    "attention_masks = []\n",
    "\n",
    "# For every tweet...\n",
    "for sentence in sentences:\n",
    "    # `encode_plus` will:\n",
    "    #   (1) Tokenize the sentence.\n",
    "    #   (2) Prepend the `[CLS]` token to the start.\n",
    "    #   (3) Append the `[SEP]` token to the end.\n",
    "    #   (4) Map tokens to their IDs.\n",
    "    #   (5) Pad or truncate the sentence to `max_length`\n",
    "    #   (6) Create attention masks for [PAD] tokens.\n",
    "    encoded_dict = tokenizer.encode_plus(\n",
    "                        sentence,                      # Sentence to encode.\n",
    "                        add_special_tokens = True, # Add '[CLS]' and '[SEP]'\n",
    "                        max_length = max_len,           # Pad & truncate all sentences.\n",
    "                        truncation=True,\n",
    "                        pad_to_max_length = True,\n",
    "                        return_attention_mask = True,   # Construct attn. masks.\n",
    "                        return_tensors = 'pt',     # Return pytorch tensors.\n",
    "                   )\n",
    "\n",
    "    # Add the encoded sentence to the list.\n",
    "    input_ids.append(encoded_dict['input_ids'])\n",
    "\n",
    "    # And its attention mask (simply differentiates padding from non-padding).\n",
    "    attention_masks.append(encoded_dict['attention_mask'])\n",
    "\n",
    "# Convert the lists into tensors.\n",
    "input_ids = torch.cat(input_ids, dim=0)\n",
    "attention_masks = torch.cat(attention_masks, dim=0)\n",
    "labels = torch.tensor(labels)\n",
    "\n"
   ]
  },
  {
   "cell_type": "markdown",
   "metadata": {
    "id": "x6KcNgBzUwqO"
   },
   "source": [
    "## Encoding"
   ]
  },
  {
   "cell_type": "code",
   "execution_count": 74,
   "metadata": {
    "colab": {
     "base_uri": "https://localhost:8080/"
    },
    "executionInfo": {
     "elapsed": 14,
     "status": "ok",
     "timestamp": 1733154162416,
     "user": {
      "displayName": "Walter Di Sabatino",
      "userId": "03659477704223957380"
     },
     "user_tz": -60
    },
    "id": "HcZJfcWut6kE",
    "outputId": "05747157-3d0c-44af-acf9-9ced1710611d"
   },
   "outputs": [
    {
     "name": "stdout",
     "output_type": "stream",
     "text": [
      "Original:  naming ventures, many owners get personal casting name new companies products, entrepreneurs often decide use work look success ben amp jerry dell\n",
      "Input IDs: tensor([  101, 10324, 13252,  1010,  2116,  5608,  2131,  3167,  9179,  2171,\n",
      "         2047,  3316,  3688,  1010, 17633,  2411,  5630,  2224,  2147,  2298,\n",
      "         3112,  3841, 23713,  6128, 12418,   102,     0,     0,     0,     0,\n",
      "            0,     0,     0,     0,     0,     0,     0,     0,     0,     0,\n",
      "            0,     0,     0,     0,     0,     0,     0,     0,     0,     0,\n",
      "            0,     0,     0,     0,     0,     0,     0,     0,     0,     0,\n",
      "            0,     0,     0,     0,     0,     0,     0,     0,     0,     0,\n",
      "            0,     0,     0,     0,     0,     0,     0,     0,     0,     0,\n",
      "            0,     0,     0,     0,     0,     0,     0,     0,     0,     0,\n",
      "            0,     0,     0,     0,     0,     0,     0,     0,     0,     0,\n",
      "            0,     0,     0,     0,     0,     0,     0,     0,     0,     0,\n",
      "            0,     0,     0,     0,     0,     0,     0,     0,     0,     0,\n",
      "            0,     0,     0,     0,     0,     0,     0,     0,     0,     0,\n",
      "            0,     0,     0,     0,     0,     0,     0,     0,     0,     0,\n",
      "            0,     0,     0,     0,     0,     0,     0,     0,     0,     0,\n",
      "            0,     0,     0,     0,     0,     0,     0,     0,     0,     0,\n",
      "            0,     0,     0,     0,     0,     0,     0,     0,     0,     0,\n",
      "            0])\n"
     ]
    }
   ],
   "source": [
    "# Print sentence 0, now as a list of IDs.\n",
    "i=random.randint(0,len(sentences)-1)\n",
    "print('Original: ', sentences[i])\n",
    "print('Input IDs:', input_ids[i])"
   ]
  },
  {
   "cell_type": "code",
   "execution_count": 75,
   "metadata": {
    "colab": {
     "base_uri": "https://localhost:8080/"
    },
    "executionInfo": {
     "elapsed": 11,
     "status": "ok",
     "timestamp": 1733154162416,
     "user": {
      "displayName": "Walter Di Sabatino",
      "userId": "03659477704223957380"
     },
     "user_tz": -60
    },
    "id": "7D-kseost6kF",
    "outputId": "13153363-f4ca-4e06-b09a-e0d7ec2e1446"
   },
   "outputs": [
    {
     "name": "stdout",
     "output_type": "stream",
     "text": [
      "half life stores november , vu games sends word half life officially stores first minute tuesday, november th newsworthy\n",
      "╒════════════╤═════════════╤══════════════════╕\n",
      "│ Tokens     │   Token IDs │   Attention Mask │\n",
      "╞════════════╪═════════════╪══════════════════╡\n",
      "│ [CLS]      │         101 │                1 │\n",
      "├────────────┼─────────────┼──────────────────┤\n",
      "│ half       │        2431 │                1 │\n",
      "├────────────┼─────────────┼──────────────────┤\n",
      "│ life       │        2166 │                1 │\n",
      "├────────────┼─────────────┼──────────────────┤\n",
      "│ stores     │        5324 │                1 │\n",
      "├────────────┼─────────────┼──────────────────┤\n",
      "│ november   │        2281 │                1 │\n",
      "├────────────┼─────────────┼──────────────────┤\n",
      "│ ,          │        1010 │                1 │\n",
      "├────────────┼─────────────┼──────────────────┤\n",
      "│ vu         │       24728 │                1 │\n",
      "├────────────┼─────────────┼──────────────────┤\n",
      "│ games      │        2399 │                1 │\n",
      "├────────────┼─────────────┼──────────────────┤\n",
      "│ sends      │       10255 │                1 │\n",
      "├────────────┼─────────────┼──────────────────┤\n",
      "│ word       │        2773 │                1 │\n",
      "├────────────┼─────────────┼──────────────────┤\n",
      "│ half       │        2431 │                1 │\n",
      "├────────────┼─────────────┼──────────────────┤\n",
      "│ life       │        2166 │                1 │\n",
      "├────────────┼─────────────┼──────────────────┤\n",
      "│ officially │        3985 │                1 │\n",
      "├────────────┼─────────────┼──────────────────┤\n",
      "│ stores     │        5324 │                1 │\n",
      "├────────────┼─────────────┼──────────────────┤\n",
      "│ first      │        2034 │                1 │\n",
      "├────────────┼─────────────┼──────────────────┤\n",
      "│ minute     │        3371 │                1 │\n",
      "├────────────┼─────────────┼──────────────────┤\n",
      "│ tuesday    │        9857 │                1 │\n",
      "├────────────┼─────────────┼──────────────────┤\n",
      "│ ,          │        1010 │                1 │\n",
      "├────────────┼─────────────┼──────────────────┤\n",
      "│ november   │        2281 │                1 │\n",
      "├────────────┼─────────────┼──────────────────┤\n",
      "│ th         │       16215 │                1 │\n",
      "├────────────┼─────────────┼──────────────────┤\n",
      "│ news       │        2739 │                1 │\n",
      "├────────────┼─────────────┼──────────────────┤\n",
      "│ ##worthy   │       13966 │                1 │\n",
      "├────────────┼─────────────┼──────────────────┤\n",
      "│ [SEP]      │         102 │                1 │\n",
      "├────────────┼─────────────┼──────────────────┤\n",
      "│ [PAD]      │           0 │                0 │\n",
      "├────────────┼─────────────┼──────────────────┤\n",
      "│ [PAD]      │           0 │                0 │\n",
      "├────────────┼─────────────┼──────────────────┤\n",
      "│ [PAD]      │           0 │                0 │\n",
      "├────────────┼─────────────┼──────────────────┤\n",
      "│ [PAD]      │           0 │                0 │\n",
      "├────────────┼─────────────┼──────────────────┤\n",
      "│ [PAD]      │           0 │                0 │\n",
      "├────────────┼─────────────┼──────────────────┤\n",
      "│ [PAD]      │           0 │                0 │\n",
      "├────────────┼─────────────┼──────────────────┤\n",
      "│ [PAD]      │           0 │                0 │\n",
      "├────────────┼─────────────┼──────────────────┤\n",
      "│ [PAD]      │           0 │                0 │\n",
      "├────────────┼─────────────┼──────────────────┤\n",
      "│ [PAD]      │           0 │                0 │\n",
      "├────────────┼─────────────┼──────────────────┤\n",
      "│ [PAD]      │           0 │                0 │\n",
      "├────────────┼─────────────┼──────────────────┤\n",
      "│ [PAD]      │           0 │                0 │\n",
      "├────────────┼─────────────┼──────────────────┤\n",
      "│ [PAD]      │           0 │                0 │\n",
      "├────────────┼─────────────┼──────────────────┤\n",
      "│ [PAD]      │           0 │                0 │\n",
      "├────────────┼─────────────┼──────────────────┤\n",
      "│ [PAD]      │           0 │                0 │\n",
      "├────────────┼─────────────┼──────────────────┤\n",
      "│ [PAD]      │           0 │                0 │\n",
      "├────────────┼─────────────┼──────────────────┤\n",
      "│ [PAD]      │           0 │                0 │\n",
      "├────────────┼─────────────┼──────────────────┤\n",
      "│ [PAD]      │           0 │                0 │\n",
      "├────────────┼─────────────┼──────────────────┤\n",
      "│ [PAD]      │           0 │                0 │\n",
      "├────────────┼─────────────┼──────────────────┤\n",
      "│ [PAD]      │           0 │                0 │\n",
      "├────────────┼─────────────┼──────────────────┤\n",
      "│ [PAD]      │           0 │                0 │\n",
      "├────────────┼─────────────┼──────────────────┤\n",
      "│ [PAD]      │           0 │                0 │\n",
      "├────────────┼─────────────┼──────────────────┤\n",
      "│ [PAD]      │           0 │                0 │\n",
      "├────────────┼─────────────┼──────────────────┤\n",
      "│ [PAD]      │           0 │                0 │\n",
      "├────────────┼─────────────┼──────────────────┤\n",
      "│ [PAD]      │           0 │                0 │\n",
      "├────────────┼─────────────┼──────────────────┤\n",
      "│ [PAD]      │           0 │                0 │\n",
      "├────────────┼─────────────┼──────────────────┤\n",
      "│ [PAD]      │           0 │                0 │\n",
      "├────────────┼─────────────┼──────────────────┤\n",
      "│ [PAD]      │           0 │                0 │\n",
      "├────────────┼─────────────┼──────────────────┤\n",
      "│ [PAD]      │           0 │                0 │\n",
      "├────────────┼─────────────┼──────────────────┤\n",
      "│ [PAD]      │           0 │                0 │\n",
      "├────────────┼─────────────┼──────────────────┤\n",
      "│ [PAD]      │           0 │                0 │\n",
      "├────────────┼─────────────┼──────────────────┤\n",
      "│ [PAD]      │           0 │                0 │\n",
      "├────────────┼─────────────┼──────────────────┤\n",
      "│ [PAD]      │           0 │                0 │\n",
      "├────────────┼─────────────┼──────────────────┤\n",
      "│ [PAD]      │           0 │                0 │\n",
      "├────────────┼─────────────┼──────────────────┤\n",
      "│ [PAD]      │           0 │                0 │\n",
      "├────────────┼─────────────┼──────────────────┤\n",
      "│ [PAD]      │           0 │                0 │\n",
      "├────────────┼─────────────┼──────────────────┤\n",
      "│ [PAD]      │           0 │                0 │\n",
      "├────────────┼─────────────┼──────────────────┤\n",
      "│ [PAD]      │           0 │                0 │\n",
      "├────────────┼─────────────┼──────────────────┤\n",
      "│ [PAD]      │           0 │                0 │\n",
      "├────────────┼─────────────┼──────────────────┤\n",
      "│ [PAD]      │           0 │                0 │\n",
      "├────────────┼─────────────┼──────────────────┤\n",
      "│ [PAD]      │           0 │                0 │\n",
      "├────────────┼─────────────┼──────────────────┤\n",
      "│ [PAD]      │           0 │                0 │\n",
      "├────────────┼─────────────┼──────────────────┤\n",
      "│ [PAD]      │           0 │                0 │\n",
      "├────────────┼─────────────┼──────────────────┤\n",
      "│ [PAD]      │           0 │                0 │\n",
      "├────────────┼─────────────┼──────────────────┤\n",
      "│ [PAD]      │           0 │                0 │\n",
      "├────────────┼─────────────┼──────────────────┤\n",
      "│ [PAD]      │           0 │                0 │\n",
      "├────────────┼─────────────┼──────────────────┤\n",
      "│ [PAD]      │           0 │                0 │\n",
      "├────────────┼─────────────┼──────────────────┤\n",
      "│ [PAD]      │           0 │                0 │\n",
      "├────────────┼─────────────┼──────────────────┤\n",
      "│ [PAD]      │           0 │                0 │\n",
      "├────────────┼─────────────┼──────────────────┤\n",
      "│ [PAD]      │           0 │                0 │\n",
      "├────────────┼─────────────┼──────────────────┤\n",
      "│ [PAD]      │           0 │                0 │\n",
      "├────────────┼─────────────┼──────────────────┤\n",
      "│ [PAD]      │           0 │                0 │\n",
      "├────────────┼─────────────┼──────────────────┤\n",
      "│ [PAD]      │           0 │                0 │\n",
      "├────────────┼─────────────┼──────────────────┤\n",
      "│ [PAD]      │           0 │                0 │\n",
      "├────────────┼─────────────┼──────────────────┤\n",
      "│ [PAD]      │           0 │                0 │\n",
      "├────────────┼─────────────┼──────────────────┤\n",
      "│ [PAD]      │           0 │                0 │\n",
      "├────────────┼─────────────┼──────────────────┤\n",
      "│ [PAD]      │           0 │                0 │\n",
      "├────────────┼─────────────┼──────────────────┤\n",
      "│ [PAD]      │           0 │                0 │\n",
      "├────────────┼─────────────┼──────────────────┤\n",
      "│ [PAD]      │           0 │                0 │\n",
      "├────────────┼─────────────┼──────────────────┤\n",
      "│ [PAD]      │           0 │                0 │\n",
      "├────────────┼─────────────┼──────────────────┤\n",
      "│ [PAD]      │           0 │                0 │\n",
      "├────────────┼─────────────┼──────────────────┤\n",
      "│ [PAD]      │           0 │                0 │\n",
      "├────────────┼─────────────┼──────────────────┤\n",
      "│ [PAD]      │           0 │                0 │\n",
      "├────────────┼─────────────┼──────────────────┤\n",
      "│ [PAD]      │           0 │                0 │\n",
      "├────────────┼─────────────┼──────────────────┤\n",
      "│ [PAD]      │           0 │                0 │\n",
      "├────────────┼─────────────┼──────────────────┤\n",
      "│ [PAD]      │           0 │                0 │\n",
      "├────────────┼─────────────┼──────────────────┤\n",
      "│ [PAD]      │           0 │                0 │\n",
      "├────────────┼─────────────┼──────────────────┤\n",
      "│ [PAD]      │           0 │                0 │\n",
      "├────────────┼─────────────┼──────────────────┤\n",
      "│ [PAD]      │           0 │                0 │\n",
      "├────────────┼─────────────┼──────────────────┤\n",
      "│ [PAD]      │           0 │                0 │\n",
      "├────────────┼─────────────┼──────────────────┤\n",
      "│ [PAD]      │           0 │                0 │\n",
      "├────────────┼─────────────┼──────────────────┤\n",
      "│ [PAD]      │           0 │                0 │\n",
      "├────────────┼─────────────┼──────────────────┤\n",
      "│ [PAD]      │           0 │                0 │\n",
      "├────────────┼─────────────┼──────────────────┤\n",
      "│ [PAD]      │           0 │                0 │\n",
      "├────────────┼─────────────┼──────────────────┤\n",
      "│ [PAD]      │           0 │                0 │\n",
      "├────────────┼─────────────┼──────────────────┤\n",
      "│ [PAD]      │           0 │                0 │\n",
      "├────────────┼─────────────┼──────────────────┤\n",
      "│ [PAD]      │           0 │                0 │\n",
      "├────────────┼─────────────┼──────────────────┤\n",
      "│ [PAD]      │           0 │                0 │\n",
      "├────────────┼─────────────┼──────────────────┤\n",
      "│ [PAD]      │           0 │                0 │\n",
      "├────────────┼─────────────┼──────────────────┤\n",
      "│ [PAD]      │           0 │                0 │\n",
      "├────────────┼─────────────┼──────────────────┤\n",
      "│ [PAD]      │           0 │                0 │\n",
      "├────────────┼─────────────┼──────────────────┤\n",
      "│ [PAD]      │           0 │                0 │\n",
      "├────────────┼─────────────┼──────────────────┤\n",
      "│ [PAD]      │           0 │                0 │\n",
      "├────────────┼─────────────┼──────────────────┤\n",
      "│ [PAD]      │           0 │                0 │\n",
      "├────────────┼─────────────┼──────────────────┤\n",
      "│ [PAD]      │           0 │                0 │\n",
      "├────────────┼─────────────┼──────────────────┤\n",
      "│ [PAD]      │           0 │                0 │\n",
      "├────────────┼─────────────┼──────────────────┤\n",
      "│ [PAD]      │           0 │                0 │\n",
      "├────────────┼─────────────┼──────────────────┤\n",
      "│ [PAD]      │           0 │                0 │\n",
      "├────────────┼─────────────┼──────────────────┤\n",
      "│ [PAD]      │           0 │                0 │\n",
      "├────────────┼─────────────┼──────────────────┤\n",
      "│ [PAD]      │           0 │                0 │\n",
      "├────────────┼─────────────┼──────────────────┤\n",
      "│ [PAD]      │           0 │                0 │\n",
      "├────────────┼─────────────┼──────────────────┤\n",
      "│ [PAD]      │           0 │                0 │\n",
      "├────────────┼─────────────┼──────────────────┤\n",
      "│ [PAD]      │           0 │                0 │\n",
      "├────────────┼─────────────┼──────────────────┤\n",
      "│ [PAD]      │           0 │                0 │\n",
      "├────────────┼─────────────┼──────────────────┤\n",
      "│ [PAD]      │           0 │                0 │\n",
      "├────────────┼─────────────┼──────────────────┤\n",
      "│ [PAD]      │           0 │                0 │\n",
      "├────────────┼─────────────┼──────────────────┤\n",
      "│ [PAD]      │           0 │                0 │\n",
      "├────────────┼─────────────┼──────────────────┤\n",
      "│ [PAD]      │           0 │                0 │\n",
      "├────────────┼─────────────┼──────────────────┤\n",
      "│ [PAD]      │           0 │                0 │\n",
      "├────────────┼─────────────┼──────────────────┤\n",
      "│ [PAD]      │           0 │                0 │\n",
      "├────────────┼─────────────┼──────────────────┤\n",
      "│ [PAD]      │           0 │                0 │\n",
      "├────────────┼─────────────┼──────────────────┤\n",
      "│ [PAD]      │           0 │                0 │\n",
      "├────────────┼─────────────┼──────────────────┤\n",
      "│ [PAD]      │           0 │                0 │\n",
      "├────────────┼─────────────┼──────────────────┤\n",
      "│ [PAD]      │           0 │                0 │\n",
      "├────────────┼─────────────┼──────────────────┤\n",
      "│ [PAD]      │           0 │                0 │\n",
      "├────────────┼─────────────┼──────────────────┤\n",
      "│ [PAD]      │           0 │                0 │\n",
      "├────────────┼─────────────┼──────────────────┤\n",
      "│ [PAD]      │           0 │                0 │\n",
      "├────────────┼─────────────┼──────────────────┤\n",
      "│ [PAD]      │           0 │                0 │\n",
      "├────────────┼─────────────┼──────────────────┤\n",
      "│ [PAD]      │           0 │                0 │\n",
      "├────────────┼─────────────┼──────────────────┤\n",
      "│ [PAD]      │           0 │                0 │\n",
      "├────────────┼─────────────┼──────────────────┤\n",
      "│ [PAD]      │           0 │                0 │\n",
      "├────────────┼─────────────┼──────────────────┤\n",
      "│ [PAD]      │           0 │                0 │\n",
      "├────────────┼─────────────┼──────────────────┤\n",
      "│ [PAD]      │           0 │                0 │\n",
      "├────────────┼─────────────┼──────────────────┤\n",
      "│ [PAD]      │           0 │                0 │\n",
      "├────────────┼─────────────┼──────────────────┤\n",
      "│ [PAD]      │           0 │                0 │\n",
      "├────────────┼─────────────┼──────────────────┤\n",
      "│ [PAD]      │           0 │                0 │\n",
      "├────────────┼─────────────┼──────────────────┤\n",
      "│ [PAD]      │           0 │                0 │\n",
      "├────────────┼─────────────┼──────────────────┤\n",
      "│ [PAD]      │           0 │                0 │\n",
      "├────────────┼─────────────┼──────────────────┤\n",
      "│ [PAD]      │           0 │                0 │\n",
      "├────────────┼─────────────┼──────────────────┤\n",
      "│ [PAD]      │           0 │                0 │\n",
      "├────────────┼─────────────┼──────────────────┤\n",
      "│ [PAD]      │           0 │                0 │\n",
      "├────────────┼─────────────┼──────────────────┤\n",
      "│ [PAD]      │           0 │                0 │\n",
      "├────────────┼─────────────┼──────────────────┤\n",
      "│ [PAD]      │           0 │                0 │\n",
      "├────────────┼─────────────┼──────────────────┤\n",
      "│ [PAD]      │           0 │                0 │\n",
      "├────────────┼─────────────┼──────────────────┤\n",
      "│ [PAD]      │           0 │                0 │\n",
      "├────────────┼─────────────┼──────────────────┤\n",
      "│ [PAD]      │           0 │                0 │\n",
      "├────────────┼─────────────┼──────────────────┤\n",
      "│ [PAD]      │           0 │                0 │\n",
      "├────────────┼─────────────┼──────────────────┤\n",
      "│ [PAD]      │           0 │                0 │\n",
      "├────────────┼─────────────┼──────────────────┤\n",
      "│ [PAD]      │           0 │                0 │\n",
      "├────────────┼─────────────┼──────────────────┤\n",
      "│ [PAD]      │           0 │                0 │\n",
      "├────────────┼─────────────┼──────────────────┤\n",
      "│ [PAD]      │           0 │                0 │\n",
      "├────────────┼─────────────┼──────────────────┤\n",
      "│ [PAD]      │           0 │                0 │\n",
      "├────────────┼─────────────┼──────────────────┤\n",
      "│ [PAD]      │           0 │                0 │\n",
      "├────────────┼─────────────┼──────────────────┤\n",
      "│ [PAD]      │           0 │                0 │\n",
      "├────────────┼─────────────┼──────────────────┤\n",
      "│ [PAD]      │           0 │                0 │\n",
      "├────────────┼─────────────┼──────────────────┤\n",
      "│ [PAD]      │           0 │                0 │\n",
      "├────────────┼─────────────┼──────────────────┤\n",
      "│ [PAD]      │           0 │                0 │\n",
      "├────────────┼─────────────┼──────────────────┤\n",
      "│ [PAD]      │           0 │                0 │\n",
      "├────────────┼─────────────┼──────────────────┤\n",
      "│ [PAD]      │           0 │                0 │\n",
      "├────────────┼─────────────┼──────────────────┤\n",
      "│ [PAD]      │           0 │                0 │\n",
      "├────────────┼─────────────┼──────────────────┤\n",
      "│ [PAD]      │           0 │                0 │\n",
      "├────────────┼─────────────┼──────────────────┤\n",
      "│ [PAD]      │           0 │                0 │\n",
      "├────────────┼─────────────┼──────────────────┤\n",
      "│ [PAD]      │           0 │                0 │\n",
      "├────────────┼─────────────┼──────────────────┤\n",
      "│ [PAD]      │           0 │                0 │\n",
      "├────────────┼─────────────┼──────────────────┤\n",
      "│ [PAD]      │           0 │                0 │\n",
      "├────────────┼─────────────┼──────────────────┤\n",
      "│ [PAD]      │           0 │                0 │\n",
      "├────────────┼─────────────┼──────────────────┤\n",
      "│ [PAD]      │           0 │                0 │\n",
      "├────────────┼─────────────┼──────────────────┤\n",
      "│ [PAD]      │           0 │                0 │\n",
      "├────────────┼─────────────┼──────────────────┤\n",
      "│ [PAD]      │           0 │                0 │\n",
      "╘════════════╧═════════════╧══════════════════╛\n"
     ]
    }
   ],
   "source": [
    "def print_rand_sentence_encoding():\n",
    "  '''Displays tokens, token IDs and attention mask of a random text sample'''\n",
    "  index = random.randint(0, len(sentences) - 1)\n",
    "  tokens = tokenizer.tokenize(tokenizer.decode(input_ids[index]))\n",
    "  token_ids = [i.numpy() for i in input_ids[index]]\n",
    "  attention = [i.numpy() for i in attention_masks[index]]\n",
    "\n",
    "  table = np.array([tokens, token_ids, attention]).T\n",
    "  print(sentences[index])\n",
    "  print(tabulate(table,\n",
    "                 headers = ['Tokens', 'Token IDs', 'Attention Mask'],\n",
    "                 tablefmt = 'fancy_grid'))\n",
    "\n",
    "print_rand_sentence_encoding()"
   ]
  },
  {
   "cell_type": "markdown",
   "metadata": {
    "id": "RlNRqVj0t6kG"
   },
   "source": [
    "## Train Validation Split"
   ]
  },
  {
   "cell_type": "code",
   "execution_count": 76,
   "metadata": {
    "colab": {
     "base_uri": "https://localhost:8080/"
    },
    "executionInfo": {
     "elapsed": 8,
     "status": "ok",
     "timestamp": 1733154162416,
     "user": {
      "displayName": "Walter Di Sabatino",
      "userId": "03659477704223957380"
     },
     "user_tz": -60
    },
    "id": "Ce50Ixk7t6kJ",
    "outputId": "9e16481f-bfdc-46ed-c961-d5e9ff4617a9"
   },
   "outputs": [
    {
     "name": "stdout",
     "output_type": "stream",
     "text": [
      "16,000 training samples\n",
      "2,000 validation samples\n"
     ]
    }
   ],
   "source": [
    "from sklearn.model_selection import StratifiedShuffleSplit\n",
    "\n",
    "# Dataset originale\n",
    "dataset = TensorDataset(input_ids, attention_masks, labels)\n",
    "\n",
    "# Suddivisione stratificata\n",
    "sss = StratifiedShuffleSplit(n_splits=1, test_size=int(test_val_size), random_state=42)\n",
    "\n",
    "# Estrai gli indici di addestramento e validazione\n",
    "for train_index, val_index in sss.split(input_ids, labels):\n",
    "    train_dataset = torch.utils.data.Subset(dataset, train_index)\n",
    "    val_dataset = torch.utils.data.Subset(dataset, val_index)\n",
    "\n",
    "train_size = len(train_dataset)\n",
    "print(f'{train_size:,} training samples')\n",
    "print(f'{len(val_dataset):,} validation samples')\n"
   ]
  },
  {
   "cell_type": "code",
   "execution_count": 89,
   "metadata": {
    "colab": {
     "base_uri": "https://localhost:8080/"
    },
    "executionInfo": {
     "elapsed": 247,
     "status": "ok",
     "timestamp": 1733156340775,
     "user": {
      "displayName": "Walter Di Sabatino",
      "userId": "03659477704223957380"
     },
     "user_tz": -60
    },
    "id": "A0PuNoNIHhou",
    "outputId": "faf62004-31cb-489a-8759-c85bbbd85b99"
   },
   "outputs": [
    {
     "name": "stdout",
     "output_type": "stream",
     "text": [
      "500,498,502,500\n"
     ]
    }
   ],
   "source": [
    "from collections import Counter\n",
    "\n",
    "# Estrai le etichette dal val_dataset\n",
    "val_labels = [val_dataset[i][2] for i in range(len(val_dataset))]  # Assuming labels are at index 2\n",
    "\n",
    "# Conta le occorrenze di ogni etichetta\n",
    "label_counts = Counter(val_labels)\n",
    "\n",
    "count_0=0\n",
    "count_1=0\n",
    "count_2=0\n",
    "count_3=0\n",
    "\n",
    "# Stampa il numero totale di campioni per ciascuna etichetta nel set di validazione\n",
    "for label, count in label_counts.items():\n",
    "    if label == 0: count_0+=1\n",
    "    if label == 1: count_1+=1\n",
    "    if label == 2: count_2+=1\n",
    "    if label == 3: count_3+=1\n",
    "\n",
    "print(f\"{count_0},{count_1},{count_2},{count_3}\")"
   ]
  },
  {
   "cell_type": "code",
   "execution_count": 77,
   "metadata": {
    "executionInfo": {
     "elapsed": 8,
     "status": "ok",
     "timestamp": 1733154162417,
     "user": {
      "displayName": "Walter Di Sabatino",
      "userId": "03659477704223957380"
     },
     "user_tz": -60
    },
    "id": "DVrO7Tuqt6kS"
   },
   "outputs": [],
   "source": [
    "#Per eseguire il fine-tuning di BERT su un task specifico, è raccomandata una dimensione del batch pari a 16 o a 32\n",
    "batch_size = 32\n",
    "\n",
    "#Crea il DataLoaders per il training set e per il validation set\n",
    "#Vengono presi gli elementoi del training set in ordine randomico\n",
    "train_dataloader = DataLoader(\n",
    "            train_dataset,  #Il training set\n",
    "            sampler = RandomSampler(train_dataset), #Seleziona randomicamente i batch\n",
    "            batch_size = batch_size #Esegue l'allenamento con questa dimensione dei batch\n",
    "        )\n",
    "\n",
    "\n",
    "validation_dataloader = DataLoader(\n",
    "            val_dataset, #Il validation set\n",
    "            sampler = SequentialSampler(val_dataset), #Seleziona i batch in maniera sequenziale\n",
    "            batch_size = batch_size #Esegue una valutazione del modello con questa dimensione dei batch\n",
    "        )"
   ]
  },
  {
   "cell_type": "markdown",
   "metadata": {
    "id": "klxpAzXot6kT"
   },
   "source": [
    "## Metrics"
   ]
  },
  {
   "cell_type": "code",
   "execution_count": 78,
   "metadata": {
    "executionInfo": {
     "elapsed": 7,
     "status": "ok",
     "timestamp": 1733154162417,
     "user": {
      "displayName": "Walter Di Sabatino",
      "userId": "03659477704223957380"
     },
     "user_tz": -60
    },
    "id": "CODAAX1zt6kT"
   },
   "outputs": [],
   "source": [
    "def b_tp(preds, labels):\n",
    "  '''Returns True Positives (TP): count of correct predictions of actual class 1'''\n",
    "  return sum([preds == labels and preds == 1 for preds, labels in zip(preds, labels)])\n",
    "\n",
    "def b_fp(preds, labels):\n",
    "  '''Returns False Positives (FP): count of wrong predictions of actual class 1'''\n",
    "  return sum([preds != labels and preds == 1 for preds, labels in zip(preds, labels)])\n",
    "\n",
    "def b_tn(preds, labels):\n",
    "  '''Returns True Negatives (TN): count of correct predictions of actual class 0'''\n",
    "  return sum([preds == labels and preds == 0 for preds, labels in zip(preds, labels)])\n",
    "\n",
    "def b_fn(preds, labels):\n",
    "  '''Returns False Negatives (FN): count of wrong predictions of actual class 0'''\n",
    "  return sum([preds != labels and preds == 0 for preds, labels in zip(preds, labels)])\n",
    "\n",
    "def b_metrics(preds, labels):\n",
    "  '''\n",
    "  Returns the following metrics:\n",
    "    - accuracy    = (TP + TN) / N\n",
    "    - precision   = TP / (TP + FP)\n",
    "    - recall      = TP / (TP + FN)\n",
    "    - specificity = TN / (TN + FP)\n",
    "  '''\n",
    "  preds = np.argmax(preds, axis = 1).flatten()\n",
    "  labels = labels.flatten()\n",
    "  tp = b_tp(preds, labels)\n",
    "  tn = b_tn(preds, labels)\n",
    "  fp = b_fp(preds, labels)\n",
    "  fn = b_fn(preds, labels)\n",
    "  b_accuracy = (tp + tn) / len(labels)\n",
    "  b_precision = tp / (tp + fp) if (tp + fp) > 0 else 'nan'\n",
    "  b_recall = tp / (tp + fn) if (tp + fn) > 0 else 'nan'\n",
    "  b_specificity = tn / (tn + fp) if (tn + fp) > 0 else 'nan'\n",
    "  return b_accuracy, b_precision, b_recall, b_specificity"
   ]
  },
  {
   "cell_type": "markdown",
   "metadata": {
    "id": "X11ogMqRt6kU"
   },
   "source": [
    "## Creazione modello BERT"
   ]
  },
  {
   "cell_type": "code",
   "execution_count": 79,
   "metadata": {
    "colab": {
     "base_uri": "https://localhost:8080/"
    },
    "executionInfo": {
     "elapsed": 546,
     "status": "ok",
     "timestamp": 1733154162956,
     "user": {
      "displayName": "Walter Di Sabatino",
      "userId": "03659477704223957380"
     },
     "user_tz": -60
    },
    "id": "HKSIa8uTt6kU",
    "outputId": "2cb5b66e-3ea1-469b-99a7-d72f5759adbf"
   },
   "outputs": [
    {
     "name": "stderr",
     "output_type": "stream",
     "text": [
      "Some weights of BertForSequenceClassification were not initialized from the model checkpoint at bert-base-uncased and are newly initialized: ['classifier.bias', 'classifier.weight']\n",
      "You should probably TRAIN this model on a down-stream task to be able to use it for predictions and inference.\n"
     ]
    }
   ],
   "source": [
    "# Load BertForSequenceClassification, the pretrained BERT model with a single\n",
    "# linear classification layer on top.\n",
    "model = BertForSequenceClassification.from_pretrained(\n",
    "    \"bert-base-uncased\", # Use the 12-layer BERT model, with an uncased vocab.\n",
    "    num_labels = 4, # The number of output labels--2 for binary classification.\n",
    "                    # You can increase this for multi-class tasks.\n",
    "    output_attentions = False, # Whether the model returns attentions weights.\n",
    "    output_hidden_states = False, # Whether the model returns all hidden-states.\n",
    ")\n",
    "\n",
    "# if device == \"cuda:0\":\n",
    "# # Tell pytorch to run this model on the GPU.\n",
    "#     model = model.cuda()\n",
    "model = model.to(device)"
   ]
  },
  {
   "cell_type": "code",
   "execution_count": 80,
   "metadata": {
    "colab": {
     "base_uri": "https://localhost:8080/"
    },
    "executionInfo": {
     "elapsed": 11,
     "status": "ok",
     "timestamp": 1733154162957,
     "user": {
      "displayName": "Walter Di Sabatino",
      "userId": "03659477704223957380"
     },
     "user_tz": -60
    },
    "id": "4bLwfpVbt6kV",
    "outputId": "fe073fe2-3bd3-4ec1-c8b3-a00859435e26"
   },
   "outputs": [
    {
     "name": "stderr",
     "output_type": "stream",
     "text": [
      "/usr/local/lib/python3.10/dist-packages/transformers/optimization.py:591: FutureWarning: This implementation of AdamW is deprecated and will be removed in a future version. Use the PyTorch implementation torch.optim.AdamW instead, or set `no_deprecation_warning=True` to disable this warning\n",
      "  warnings.warn(\n"
     ]
    }
   ],
   "source": [
    "optimizer = AdamW(model.parameters(),\n",
    "                  lr = 2e-5, # args.learning_rate - default is 5e-5\n",
    "                  eps = 1e-8 # args.adam_epsilon  - default is 1e-8.\n",
    "                )"
   ]
  },
  {
   "cell_type": "markdown",
   "metadata": {
    "id": "q2Lokhwwt6kV"
   },
   "source": [
    "## Fine-tuning"
   ]
  },
  {
   "cell_type": "code",
   "execution_count": 81,
   "metadata": {
    "executionInfo": {
     "elapsed": 10,
     "status": "ok",
     "timestamp": 1733154162957,
     "user": {
      "displayName": "Walter Di Sabatino",
      "userId": "03659477704223957380"
     },
     "user_tz": -60
    },
    "id": "nAmAY3XSt6kW"
   },
   "outputs": [],
   "source": [
    "# Number of training epochs. The BERT authors recommend between 2 and 4.\n",
    "# We chose to run for 4, but we'll see later that this may be over-fitting the\n",
    "# training data.\n",
    "epochs = 4\n",
    "\n",
    "# Total number of training steps is [number of batches] x [number of epochs].\n",
    "# (Note that this is not the same as the number of training samples).\n",
    "total_steps = len(train_dataloader) * epochs\n",
    "\n",
    "# Create the learning rate scheduler.\n",
    "scheduler = get_linear_schedule_with_warmup(optimizer,\n",
    "                                            num_warmup_steps = 0, # Default value in run_glue.py\n",
    "                                            num_training_steps = total_steps)"
   ]
  },
  {
   "cell_type": "code",
   "execution_count": 82,
   "metadata": {
    "executionInfo": {
     "elapsed": 9,
     "status": "ok",
     "timestamp": 1733154162957,
     "user": {
      "displayName": "Walter Di Sabatino",
      "userId": "03659477704223957380"
     },
     "user_tz": -60
    },
    "id": "Xd_otCCUt6kW"
   },
   "outputs": [],
   "source": [
    "# Function to calculate the accuracy of our predictions vs labels\n",
    "def flat_accuracy(preds, labels):\n",
    "    pred_flat = np.argmax(preds, axis=1).flatten()\n",
    "    labels_flat = labels.flatten()\n",
    "    return np.sum(pred_flat == labels_flat) / len(labels_flat)"
   ]
  },
  {
   "cell_type": "code",
   "execution_count": 83,
   "metadata": {
    "executionInfo": {
     "elapsed": 9,
     "status": "ok",
     "timestamp": 1733154162957,
     "user": {
      "displayName": "Walter Di Sabatino",
      "userId": "03659477704223957380"
     },
     "user_tz": -60
    },
    "id": "aebSMyUrt6kW"
   },
   "outputs": [],
   "source": [
    "def format_time(elapsed):\n",
    "    '''\n",
    "    Takes a time in seconds and returns a string hh:mm:ss\n",
    "    '''\n",
    "    # Round to the nearest second.\n",
    "    elapsed_rounded = int(round((elapsed)))\n",
    "    # Format as hh:mm:ss\n",
    "    return str(datetime.timedelta(seconds=elapsed_rounded))"
   ]
  },
  {
   "cell_type": "code",
   "execution_count": 90,
   "metadata": {
    "colab": {
     "base_uri": "https://localhost:8080/"
    },
    "executionInfo": {
     "elapsed": 1752135,
     "status": "ok",
     "timestamp": 1733158315506,
     "user": {
      "displayName": "Walter Di Sabatino",
      "userId": "03659477704223957380"
     },
     "user_tz": -60
    },
    "id": "SqbLPrczt6kX",
    "outputId": "2aed2f40-4f9a-4577-9556-27a7f0c6d6c3"
   },
   "outputs": [
    {
     "name": "stdout",
     "output_type": "stream",
     "text": [
      "\n",
      "======== Epoch 1 / 4 ========\n",
      "Training...\n",
      "\n",
      "  Average training loss: 0.04\n",
      "  Training epcoh took: 0:06:55\n",
      "\n",
      "Running Validation...\n",
      "  Accuracy: 0.92\n",
      "  Validation Loss: 0.35\n",
      "  Validation took: 0:00:19\n",
      "\n",
      "======== Epoch 2 / 4 ========\n",
      "Training...\n",
      "\n",
      "  Average training loss: 0.02\n",
      "  Training epcoh took: 0:06:55\n",
      "\n",
      "Running Validation...\n",
      "  Accuracy: 0.93\n",
      "  Validation Loss: 0.38\n",
      "  Validation took: 0:00:18\n",
      "\n",
      "======== Epoch 3 / 4 ========\n",
      "Training...\n",
      "\n",
      "  Average training loss: 0.02\n",
      "  Training epcoh took: 0:06:55\n",
      "\n",
      "Running Validation...\n",
      "  Accuracy: 0.92\n",
      "  Validation Loss: 0.40\n",
      "  Validation took: 0:00:19\n",
      "\n",
      "======== Epoch 4 / 4 ========\n",
      "Training...\n",
      "\n",
      "  Average training loss: 0.01\n",
      "  Training epcoh took: 0:06:56\n",
      "\n",
      "Running Validation...\n",
      "  Accuracy: 0.92\n",
      "  Validation Loss: 0.40\n",
      "  Validation took: 0:00:18\n",
      "\n",
      "Training complete!\n",
      "Total training took 0:29:12 (h:mm:ss)\n"
     ]
    }
   ],
   "source": [
    "seed_val = 42\n",
    "random.seed(seed_val)\n",
    "np.random.seed(seed_val)\n",
    "torch.manual_seed(seed_val)\n",
    "torch.cuda.manual_seed_all(seed_val)\n",
    "training_stats = []\n",
    "\n",
    "# Measure the total training time for the whole run.\n",
    "total_t0 = time.time()\n",
    "\n",
    "# For each epoch...\n",
    "for epoch_i in range(0, epochs):\n",
    "\n",
    "    # ========================================\n",
    "    #               Training\n",
    "    # ========================================\n",
    "    # Perform one full pass over the training set.\n",
    "    print(\"\")\n",
    "    print('======== Epoch {:} / {:} ========'.format(epoch_i + 1, epochs))\n",
    "    print('Training...')\n",
    "    # Measure how long the training epoch takes.\n",
    "    t0 = time.time()\n",
    "    total_train_loss = 0\n",
    "\n",
    "    # Put the model into training mode. Don't be mislead--the call to\n",
    "    # `train` just changes the *mode*, it doesn't *perform* the training\n",
    "    model.train()\n",
    "    for step, batch in enumerate(train_dataloader):\n",
    "        # Unpack this training batch from our dataloader.\n",
    "        #\n",
    "        # As we unpack the batch, we'll also copy each tensor to the device using the\n",
    "        # `to` method.\n",
    "        #\n",
    "        # `batch` contains three pytorch tensors:\n",
    "        #   [0]: input ids\n",
    "        #   [1]: attention masks\n",
    "        #   [2]: labels\n",
    "        b_input_ids = batch[0].to(device)\n",
    "        b_input_mask = batch[1].to(device)\n",
    "        b_labels = batch[2].to(device)\n",
    "        # Always clear any previously calculated gradients before performing a\n",
    "        # backward pass. PyTorch doesn't do this automatically because\n",
    "        # accumulating the gradients is \"convenient while training RNNs\"\n",
    "        model.zero_grad()\n",
    "        # The documentation for this `model` function is here:\n",
    "        # https://huggingface.co/transformers/v2.2.0/model_doc/bert.html#transformers.BertForSequenceClassification\n",
    "        # It returns different numbers of parameters depending on what arguments\n",
    "        # arge given and what flags are set. For our useage here, it returns\n",
    "        # the loss (because we provided labels) and the \"logits\"--the model\n",
    "        # outputs prior to activation.\n",
    "        output = model(b_input_ids,\n",
    "                             token_type_ids=None,\n",
    "                             attention_mask=b_input_mask,\n",
    "                             labels=b_labels)\n",
    "        # Accumulate the training loss over all of the batches so that we can\n",
    "        # calculate the average loss at the end. `loss` is a Tensor containing a\n",
    "        # single value;\n",
    "        loss = output.loss\n",
    "        logits = output.logits\n",
    "        total_train_loss += loss.item()\n",
    "        # Perform a backward pass to calculate the gradients.\n",
    "        loss.backward()\n",
    "        # Clip the norm of the gradients to 1.0.\n",
    "        # This is to help prevent the \"exploding gradients\" problem.\n",
    "        torch.nn.utils.clip_grad_norm_(model.parameters(), 1.0)\n",
    "\n",
    "        # Update parameters and take a step using the computed gradient.\n",
    "        # The optimizer dictates the \"update rule\"--how the parameters are\n",
    "        # modified based on their gradients, the learning rate, etc.\n",
    "        optimizer.step()\n",
    "        # Update the learning rate.\n",
    "        scheduler.step()\n",
    "\n",
    "    # Calculate the average loss over all of the batches.\n",
    "    avg_train_loss = total_train_loss / len(train_dataloader)\n",
    "\n",
    "    # Measure how long this epoch took.\n",
    "    training_time = format_time(time.time() - t0)\n",
    "    print(\"\")\n",
    "    print(\"  Average training loss: {0:.2f}\".format(avg_train_loss))\n",
    "    print(\"  Training epcoh took: {:}\".format(training_time))\n",
    "\n",
    "\n",
    "    # ========================================\n",
    "    #               Validation\n",
    "    # ========================================\n",
    "    # After the completion of each training epoch, measure our performance on\n",
    "    # our validation set.\n",
    "    print(\"\")\n",
    "    print(\"Running Validation...\")\n",
    "\n",
    "    t0 = time.time()\n",
    "\n",
    "    # Put the model in evaluation mode--the dropout layers behave differently\n",
    "    # during evaluation.\n",
    "\n",
    "    model.eval()\n",
    "\n",
    "    # Tracking variables\n",
    "    total_eval_accuracy = 0\n",
    "    best_eval_accuracy = np.Inf\n",
    "    total_eval_loss = 0\n",
    "    nb_eval_steps = 0\n",
    "\n",
    "    # Evaluate data for one epoch\n",
    "    for batch in validation_dataloader:\n",
    "        # Unpack this training batch from our dataloader.\n",
    "        #\n",
    "        # As we unpack the batch, we'll also copy each tensor to the GPU using\n",
    "        # the `to` method.\n",
    "        #\n",
    "        # `batch` contains three pytorch tensors:\n",
    "        #   [0]: input ids\n",
    "        #   [1]: attention masks\n",
    "        #   [2]: labels\n",
    "        b_input_ids = batch[0].to(device)\n",
    "        b_input_mask = batch[1].to(device)\n",
    "        b_labels = batch[2].to(device)\n",
    "\n",
    "        # Tell pytorch not to bother with constructing the compute graph during\n",
    "        # the forward pass, since this is only needed for backprop (training).\n",
    "        with torch.no_grad():\n",
    "            output= model(b_input_ids,\n",
    "                                   token_type_ids=None,\n",
    "                                   attention_mask=b_input_mask,\n",
    "                                   labels=b_labels)\n",
    "        loss = output.loss\n",
    "        total_eval_loss += loss.item()\n",
    "\n",
    "        # Move logits and labels to CPU if we are using GPU\n",
    "        logits = output.logits\n",
    "        logits = logits.detach().cpu().numpy()\n",
    "        label_ids = b_labels.to('cpu').numpy()\n",
    "\n",
    "        # Calculate the accuracy for this batch of test sentences, and\n",
    "        # accumulate it over all batches.\n",
    "        total_eval_accuracy += flat_accuracy(logits, label_ids)\n",
    "\n",
    "    # Report the final accuracy for this validation run.\n",
    "    avg_val_accuracy = total_eval_accuracy / len(validation_dataloader)\n",
    "    print(\"  Accuracy: {0:.2f}\".format(avg_val_accuracy))\n",
    "\n",
    "    # Calculate the average loss over all of the batches.\n",
    "    avg_val_loss = total_eval_loss / len(validation_dataloader)\n",
    "\n",
    "    # Measure how long the validation run took.\n",
    "    validation_time = format_time(time.time() - t0)\n",
    "\n",
    "    #save the best model\n",
    "    if avg_val_accuracy < best_eval_accuracy:\n",
    "        torch.save(model, 'bert_model_bbc')\n",
    "        best_eval_accuracy = avg_val_accuracy\n",
    "\n",
    "    print(\"  Validation Loss: {0:.2f}\".format(avg_val_loss))\n",
    "    print(\"  Validation took: {:}\".format(validation_time))\n",
    "\n",
    "    # Record all statistics from this epoch.\n",
    "    training_stats.append(\n",
    "        {\n",
    "            'epoch': epoch_i + 1,\n",
    "            'Training Loss': avg_train_loss,\n",
    "            'Valid. Loss': avg_val_loss,\n",
    "            'Valid. Accur.': avg_val_accuracy,\n",
    "            'Training Time': training_time,\n",
    "            'Validation Time': validation_time\n",
    "        }\n",
    "    )\n",
    "print(\"\")\n",
    "print(\"Training complete!\")\n",
    "\n",
    "print(\"Total training took {:} (h:mm:ss)\".format(format_time(time.time()-total_t0)))"
   ]
  },
  {
   "cell_type": "markdown",
   "metadata": {
    "id": "qFGiURXATAXf"
   },
   "source": [
    "## Training stats"
   ]
  },
  {
   "cell_type": "code",
   "execution_count": 92,
   "metadata": {
    "colab": {
     "base_uri": "https://localhost:8080/",
     "height": 206
    },
    "executionInfo": {
     "elapsed": 272,
     "status": "ok",
     "timestamp": 1733158691378,
     "user": {
      "displayName": "Walter Di Sabatino",
      "userId": "03659477704223957380"
     },
     "user_tz": -60
    },
    "id": "dEmL2YrBTJsR",
    "outputId": "ed8046c6-9873-4be0-f824-9c7485c49730"
   },
   "outputs": [
    {
     "data": {
      "application/vnd.google.colaboratory.intrinsic+json": {
       "summary": "{\n  \"name\": \"df_stats\",\n  \"rows\": 4,\n  \"fields\": [\n    {\n      \"column\": \"epoch\",\n      \"properties\": {\n        \"dtype\": \"number\",\n        \"std\": 1,\n        \"min\": 1,\n        \"max\": 4,\n        \"num_unique_values\": 4,\n        \"samples\": [\n          2,\n          4,\n          1\n        ],\n        \"semantic_type\": \"\",\n        \"description\": \"\"\n      }\n    },\n    {\n      \"column\": \"Training Loss\",\n      \"properties\": {\n        \"dtype\": \"number\",\n        \"std\": 0.011939459308451764,\n        \"min\": 0.012351715380325914,\n        \"max\": 0.03969138870504685,\n        \"num_unique_values\": 4,\n        \"samples\": [\n          0.023646710675442592,\n          0.012351715380325914,\n          0.03969138870504685\n        ],\n        \"semantic_type\": \"\",\n        \"description\": \"\"\n      }\n    },\n    {\n      \"column\": \"Valid. Loss\",\n      \"properties\": {\n        \"dtype\": \"number\",\n        \"std\": 0.027157095354731986,\n        \"min\": 0.3459286132443046,\n        \"max\": 0.40464028937276453,\n        \"num_unique_values\": 4,\n        \"samples\": [\n          0.3761264757024095,\n          0.40464028937276453,\n          0.3459286132443046\n        ],\n        \"semantic_type\": \"\",\n        \"description\": \"\"\n      }\n    },\n    {\n      \"column\": \"Valid. Accur.\",\n      \"properties\": {\n        \"dtype\": \"number\",\n        \"std\": 0.002040172400670185,\n        \"min\": 0.9211309523809523,\n        \"max\": 0.9260912698412699,\n        \"num_unique_values\": 4,\n        \"samples\": [\n          0.9260912698412699,\n          0.9231150793650794,\n          0.9211309523809523\n        ],\n        \"semantic_type\": \"\",\n        \"description\": \"\"\n      }\n    },\n    {\n      \"column\": \"Training Time\",\n      \"properties\": {\n        \"dtype\": \"object\",\n        \"num_unique_values\": 2,\n        \"samples\": [\n          \"0:06:56\",\n          \"0:06:55\"\n        ],\n        \"semantic_type\": \"\",\n        \"description\": \"\"\n      }\n    },\n    {\n      \"column\": \"Validation Time\",\n      \"properties\": {\n        \"dtype\": \"object\",\n        \"num_unique_values\": 2,\n        \"samples\": [\n          \"0:00:18\",\n          \"0:00:19\"\n        ],\n        \"semantic_type\": \"\",\n        \"description\": \"\"\n      }\n    }\n  ]\n}",
       "type": "dataframe",
       "variable_name": "df_stats"
      },
      "text/html": [
       "\n",
       "  <div id=\"df-4a555c28-453d-4b94-bc80-41e5ce3135bc\" class=\"colab-df-container\">\n",
       "    <div>\n",
       "<style scoped>\n",
       "    .dataframe tbody tr th:only-of-type {\n",
       "        vertical-align: middle;\n",
       "    }\n",
       "\n",
       "    .dataframe tbody tr th {\n",
       "        vertical-align: top;\n",
       "    }\n",
       "\n",
       "    .dataframe thead th {\n",
       "        text-align: right;\n",
       "    }\n",
       "</style>\n",
       "<table border=\"1\" class=\"dataframe\">\n",
       "  <thead>\n",
       "    <tr style=\"text-align: right;\">\n",
       "      <th></th>\n",
       "      <th>Training Loss</th>\n",
       "      <th>Valid. Loss</th>\n",
       "      <th>Valid. Accur.</th>\n",
       "      <th>Training Time</th>\n",
       "      <th>Validation Time</th>\n",
       "    </tr>\n",
       "    <tr>\n",
       "      <th>epoch</th>\n",
       "      <th></th>\n",
       "      <th></th>\n",
       "      <th></th>\n",
       "      <th></th>\n",
       "      <th></th>\n",
       "    </tr>\n",
       "  </thead>\n",
       "  <tbody>\n",
       "    <tr>\n",
       "      <th>1</th>\n",
       "      <td>0.039691</td>\n",
       "      <td>0.345929</td>\n",
       "      <td>0.921131</td>\n",
       "      <td>0:06:55</td>\n",
       "      <td>0:00:19</td>\n",
       "    </tr>\n",
       "    <tr>\n",
       "      <th>2</th>\n",
       "      <td>0.023647</td>\n",
       "      <td>0.376126</td>\n",
       "      <td>0.926091</td>\n",
       "      <td>0:06:55</td>\n",
       "      <td>0:00:18</td>\n",
       "    </tr>\n",
       "    <tr>\n",
       "      <th>3</th>\n",
       "      <td>0.017052</td>\n",
       "      <td>0.401087</td>\n",
       "      <td>0.923611</td>\n",
       "      <td>0:06:55</td>\n",
       "      <td>0:00:19</td>\n",
       "    </tr>\n",
       "    <tr>\n",
       "      <th>4</th>\n",
       "      <td>0.012352</td>\n",
       "      <td>0.404640</td>\n",
       "      <td>0.923115</td>\n",
       "      <td>0:06:56</td>\n",
       "      <td>0:00:18</td>\n",
       "    </tr>\n",
       "  </tbody>\n",
       "</table>\n",
       "</div>\n",
       "    <div class=\"colab-df-buttons\">\n",
       "\n",
       "  <div class=\"colab-df-container\">\n",
       "    <button class=\"colab-df-convert\" onclick=\"convertToInteractive('df-4a555c28-453d-4b94-bc80-41e5ce3135bc')\"\n",
       "            title=\"Convert this dataframe to an interactive table.\"\n",
       "            style=\"display:none;\">\n",
       "\n",
       "  <svg xmlns=\"http://www.w3.org/2000/svg\" height=\"24px\" viewBox=\"0 -960 960 960\">\n",
       "    <path d=\"M120-120v-720h720v720H120Zm60-500h600v-160H180v160Zm220 220h160v-160H400v160Zm0 220h160v-160H400v160ZM180-400h160v-160H180v160Zm440 0h160v-160H620v160ZM180-180h160v-160H180v160Zm440 0h160v-160H620v160Z\"/>\n",
       "  </svg>\n",
       "    </button>\n",
       "\n",
       "  <style>\n",
       "    .colab-df-container {\n",
       "      display:flex;\n",
       "      gap: 12px;\n",
       "    }\n",
       "\n",
       "    .colab-df-convert {\n",
       "      background-color: #E8F0FE;\n",
       "      border: none;\n",
       "      border-radius: 50%;\n",
       "      cursor: pointer;\n",
       "      display: none;\n",
       "      fill: #1967D2;\n",
       "      height: 32px;\n",
       "      padding: 0 0 0 0;\n",
       "      width: 32px;\n",
       "    }\n",
       "\n",
       "    .colab-df-convert:hover {\n",
       "      background-color: #E2EBFA;\n",
       "      box-shadow: 0px 1px 2px rgba(60, 64, 67, 0.3), 0px 1px 3px 1px rgba(60, 64, 67, 0.15);\n",
       "      fill: #174EA6;\n",
       "    }\n",
       "\n",
       "    .colab-df-buttons div {\n",
       "      margin-bottom: 4px;\n",
       "    }\n",
       "\n",
       "    [theme=dark] .colab-df-convert {\n",
       "      background-color: #3B4455;\n",
       "      fill: #D2E3FC;\n",
       "    }\n",
       "\n",
       "    [theme=dark] .colab-df-convert:hover {\n",
       "      background-color: #434B5C;\n",
       "      box-shadow: 0px 1px 3px 1px rgba(0, 0, 0, 0.15);\n",
       "      filter: drop-shadow(0px 1px 2px rgba(0, 0, 0, 0.3));\n",
       "      fill: #FFFFFF;\n",
       "    }\n",
       "  </style>\n",
       "\n",
       "    <script>\n",
       "      const buttonEl =\n",
       "        document.querySelector('#df-4a555c28-453d-4b94-bc80-41e5ce3135bc button.colab-df-convert');\n",
       "      buttonEl.style.display =\n",
       "        google.colab.kernel.accessAllowed ? 'block' : 'none';\n",
       "\n",
       "      async function convertToInteractive(key) {\n",
       "        const element = document.querySelector('#df-4a555c28-453d-4b94-bc80-41e5ce3135bc');\n",
       "        const dataTable =\n",
       "          await google.colab.kernel.invokeFunction('convertToInteractive',\n",
       "                                                    [key], {});\n",
       "        if (!dataTable) return;\n",
       "\n",
       "        const docLinkHtml = 'Like what you see? Visit the ' +\n",
       "          '<a target=\"_blank\" href=https://colab.research.google.com/notebooks/data_table.ipynb>data table notebook</a>'\n",
       "          + ' to learn more about interactive tables.';\n",
       "        element.innerHTML = '';\n",
       "        dataTable['output_type'] = 'display_data';\n",
       "        await google.colab.output.renderOutput(dataTable, element);\n",
       "        const docLink = document.createElement('div');\n",
       "        docLink.innerHTML = docLinkHtml;\n",
       "        element.appendChild(docLink);\n",
       "      }\n",
       "    </script>\n",
       "  </div>\n",
       "\n",
       "\n",
       "<div id=\"df-3f5f74b7-7273-4798-a4cd-da6ce0dd3836\">\n",
       "  <button class=\"colab-df-quickchart\" onclick=\"quickchart('df-3f5f74b7-7273-4798-a4cd-da6ce0dd3836')\"\n",
       "            title=\"Suggest charts\"\n",
       "            style=\"display:none;\">\n",
       "\n",
       "<svg xmlns=\"http://www.w3.org/2000/svg\" height=\"24px\"viewBox=\"0 0 24 24\"\n",
       "     width=\"24px\">\n",
       "    <g>\n",
       "        <path d=\"M19 3H5c-1.1 0-2 .9-2 2v14c0 1.1.9 2 2 2h14c1.1 0 2-.9 2-2V5c0-1.1-.9-2-2-2zM9 17H7v-7h2v7zm4 0h-2V7h2v10zm4 0h-2v-4h2v4z\"/>\n",
       "    </g>\n",
       "</svg>\n",
       "  </button>\n",
       "\n",
       "<style>\n",
       "  .colab-df-quickchart {\n",
       "      --bg-color: #E8F0FE;\n",
       "      --fill-color: #1967D2;\n",
       "      --hover-bg-color: #E2EBFA;\n",
       "      --hover-fill-color: #174EA6;\n",
       "      --disabled-fill-color: #AAA;\n",
       "      --disabled-bg-color: #DDD;\n",
       "  }\n",
       "\n",
       "  [theme=dark] .colab-df-quickchart {\n",
       "      --bg-color: #3B4455;\n",
       "      --fill-color: #D2E3FC;\n",
       "      --hover-bg-color: #434B5C;\n",
       "      --hover-fill-color: #FFFFFF;\n",
       "      --disabled-bg-color: #3B4455;\n",
       "      --disabled-fill-color: #666;\n",
       "  }\n",
       "\n",
       "  .colab-df-quickchart {\n",
       "    background-color: var(--bg-color);\n",
       "    border: none;\n",
       "    border-radius: 50%;\n",
       "    cursor: pointer;\n",
       "    display: none;\n",
       "    fill: var(--fill-color);\n",
       "    height: 32px;\n",
       "    padding: 0;\n",
       "    width: 32px;\n",
       "  }\n",
       "\n",
       "  .colab-df-quickchart:hover {\n",
       "    background-color: var(--hover-bg-color);\n",
       "    box-shadow: 0 1px 2px rgba(60, 64, 67, 0.3), 0 1px 3px 1px rgba(60, 64, 67, 0.15);\n",
       "    fill: var(--button-hover-fill-color);\n",
       "  }\n",
       "\n",
       "  .colab-df-quickchart-complete:disabled,\n",
       "  .colab-df-quickchart-complete:disabled:hover {\n",
       "    background-color: var(--disabled-bg-color);\n",
       "    fill: var(--disabled-fill-color);\n",
       "    box-shadow: none;\n",
       "  }\n",
       "\n",
       "  .colab-df-spinner {\n",
       "    border: 2px solid var(--fill-color);\n",
       "    border-color: transparent;\n",
       "    border-bottom-color: var(--fill-color);\n",
       "    animation:\n",
       "      spin 1s steps(1) infinite;\n",
       "  }\n",
       "\n",
       "  @keyframes spin {\n",
       "    0% {\n",
       "      border-color: transparent;\n",
       "      border-bottom-color: var(--fill-color);\n",
       "      border-left-color: var(--fill-color);\n",
       "    }\n",
       "    20% {\n",
       "      border-color: transparent;\n",
       "      border-left-color: var(--fill-color);\n",
       "      border-top-color: var(--fill-color);\n",
       "    }\n",
       "    30% {\n",
       "      border-color: transparent;\n",
       "      border-left-color: var(--fill-color);\n",
       "      border-top-color: var(--fill-color);\n",
       "      border-right-color: var(--fill-color);\n",
       "    }\n",
       "    40% {\n",
       "      border-color: transparent;\n",
       "      border-right-color: var(--fill-color);\n",
       "      border-top-color: var(--fill-color);\n",
       "    }\n",
       "    60% {\n",
       "      border-color: transparent;\n",
       "      border-right-color: var(--fill-color);\n",
       "    }\n",
       "    80% {\n",
       "      border-color: transparent;\n",
       "      border-right-color: var(--fill-color);\n",
       "      border-bottom-color: var(--fill-color);\n",
       "    }\n",
       "    90% {\n",
       "      border-color: transparent;\n",
       "      border-bottom-color: var(--fill-color);\n",
       "    }\n",
       "  }\n",
       "</style>\n",
       "\n",
       "  <script>\n",
       "    async function quickchart(key) {\n",
       "      const quickchartButtonEl =\n",
       "        document.querySelector('#' + key + ' button');\n",
       "      quickchartButtonEl.disabled = true;  // To prevent multiple clicks.\n",
       "      quickchartButtonEl.classList.add('colab-df-spinner');\n",
       "      try {\n",
       "        const charts = await google.colab.kernel.invokeFunction(\n",
       "            'suggestCharts', [key], {});\n",
       "      } catch (error) {\n",
       "        console.error('Error during call to suggestCharts:', error);\n",
       "      }\n",
       "      quickchartButtonEl.classList.remove('colab-df-spinner');\n",
       "      quickchartButtonEl.classList.add('colab-df-quickchart-complete');\n",
       "    }\n",
       "    (() => {\n",
       "      let quickchartButtonEl =\n",
       "        document.querySelector('#df-3f5f74b7-7273-4798-a4cd-da6ce0dd3836 button');\n",
       "      quickchartButtonEl.style.display =\n",
       "        google.colab.kernel.accessAllowed ? 'block' : 'none';\n",
       "    })();\n",
       "  </script>\n",
       "</div>\n",
       "\n",
       "  <div id=\"id_8cdb18bc-f74b-403f-a878-b0d41b347c67\">\n",
       "    <style>\n",
       "      .colab-df-generate {\n",
       "        background-color: #E8F0FE;\n",
       "        border: none;\n",
       "        border-radius: 50%;\n",
       "        cursor: pointer;\n",
       "        display: none;\n",
       "        fill: #1967D2;\n",
       "        height: 32px;\n",
       "        padding: 0 0 0 0;\n",
       "        width: 32px;\n",
       "      }\n",
       "\n",
       "      .colab-df-generate:hover {\n",
       "        background-color: #E2EBFA;\n",
       "        box-shadow: 0px 1px 2px rgba(60, 64, 67, 0.3), 0px 1px 3px 1px rgba(60, 64, 67, 0.15);\n",
       "        fill: #174EA6;\n",
       "      }\n",
       "\n",
       "      [theme=dark] .colab-df-generate {\n",
       "        background-color: #3B4455;\n",
       "        fill: #D2E3FC;\n",
       "      }\n",
       "\n",
       "      [theme=dark] .colab-df-generate:hover {\n",
       "        background-color: #434B5C;\n",
       "        box-shadow: 0px 1px 3px 1px rgba(0, 0, 0, 0.15);\n",
       "        filter: drop-shadow(0px 1px 2px rgba(0, 0, 0, 0.3));\n",
       "        fill: #FFFFFF;\n",
       "      }\n",
       "    </style>\n",
       "    <button class=\"colab-df-generate\" onclick=\"generateWithVariable('df_stats')\"\n",
       "            title=\"Generate code using this dataframe.\"\n",
       "            style=\"display:none;\">\n",
       "\n",
       "  <svg xmlns=\"http://www.w3.org/2000/svg\" height=\"24px\"viewBox=\"0 0 24 24\"\n",
       "       width=\"24px\">\n",
       "    <path d=\"M7,19H8.4L18.45,9,17,7.55,7,17.6ZM5,21V16.75L18.45,3.32a2,2,0,0,1,2.83,0l1.4,1.43a1.91,1.91,0,0,1,.58,1.4,1.91,1.91,0,0,1-.58,1.4L9.25,21ZM18.45,9,17,7.55Zm-12,3A5.31,5.31,0,0,0,4.9,8.1,5.31,5.31,0,0,0,1,6.5,5.31,5.31,0,0,0,4.9,4.9,5.31,5.31,0,0,0,6.5,1,5.31,5.31,0,0,0,8.1,4.9,5.31,5.31,0,0,0,12,6.5,5.46,5.46,0,0,0,6.5,12Z\"/>\n",
       "  </svg>\n",
       "    </button>\n",
       "    <script>\n",
       "      (() => {\n",
       "      const buttonEl =\n",
       "        document.querySelector('#id_8cdb18bc-f74b-403f-a878-b0d41b347c67 button.colab-df-generate');\n",
       "      buttonEl.style.display =\n",
       "        google.colab.kernel.accessAllowed ? 'block' : 'none';\n",
       "\n",
       "      buttonEl.onclick = () => {\n",
       "        google.colab.notebook.generateWithVariable('df_stats');\n",
       "      }\n",
       "      })();\n",
       "    </script>\n",
       "  </div>\n",
       "\n",
       "    </div>\n",
       "  </div>\n"
      ],
      "text/plain": [
       "       Training Loss  Valid. Loss  Valid. Accur. Training Time Validation Time\n",
       "epoch                                                                         \n",
       "1           0.039691     0.345929       0.921131       0:06:55         0:00:19\n",
       "2           0.023647     0.376126       0.926091       0:06:55         0:00:18\n",
       "3           0.017052     0.401087       0.923611       0:06:55         0:00:19\n",
       "4           0.012352     0.404640       0.923115       0:06:56         0:00:18"
      ]
     },
     "execution_count": 92,
     "metadata": {},
     "output_type": "execute_result"
    }
   ],
   "source": [
    "import pandas as pd\n",
    "\n",
    "\n",
    "df_stats = pd.DataFrame(data=training_stats)\n",
    "\n",
    "df_stats = df_stats.set_index('epoch')\n",
    "\n",
    "df_stats"
   ]
  },
  {
   "cell_type": "code",
   "execution_count": 93,
   "metadata": {
    "colab": {
     "base_uri": "https://localhost:8080/",
     "height": 592
    },
    "executionInfo": {
     "elapsed": 1688,
     "status": "ok",
     "timestamp": 1733158695521,
     "user": {
      "displayName": "Walter Di Sabatino",
      "userId": "03659477704223957380"
     },
     "user_tz": -60
    },
    "id": "MHkhAOfWTKqP",
    "outputId": "23b0cb9e-cc4e-4d00-e29b-22e95714d727"
   },
   "outputs": [
    {
     "data": {
      "image/png": "[encoded data removed]",
      "text/plain": [
       "<Figure size 1200x600 with 1 Axes>"
      ]
     },
     "metadata": {},
     "output_type": "display_data"
    }
   ],
   "source": [
    "import matplotlib.pyplot as plt\n",
    "%matplotlib inline\n",
    "\n",
    "import seaborn as sns\n",
    "\n",
    "\n",
    "sns.set(style='darkgrid')\n",
    "\n",
    "\n",
    "sns.set(font_scale=1.5)\n",
    "plt.rcParams[\"figure.figsize\"] = (12,6)\n",
    "\n",
    "\n",
    "plt.plot(df_stats['Training Loss'], 'b-o', label=\"Training\")\n",
    "plt.plot(df_stats['Valid. Loss'], 'g-o', label=\"Validation\")\n",
    "\n",
    "\n",
    "plt.title(\"Training & Validation Loss\")\n",
    "plt.xlabel(\"Epoch\")\n",
    "plt.ylabel(\"Loss\")\n",
    "plt.legend()\n",
    "plt.xticks([1, 2, 3, 4])\n",
    "\n",
    "plt.show()"
   ]
  },
  {
   "cell_type": "markdown",
   "metadata": {
    "id": "RTQR_6Y-TN6i"
   },
   "source": [
    "## Loading best model"
   ]
  },
  {
   "cell_type": "code",
   "execution_count": 94,
   "metadata": {
    "colab": {
     "base_uri": "https://localhost:8080/"
    },
    "executionInfo": {
     "elapsed": 510,
     "status": "ok",
     "timestamp": 1733158702457,
     "user": {
      "displayName": "Walter Di Sabatino",
      "userId": "03659477704223957380"
     },
     "user_tz": -60
    },
    "id": "Mcb8W-XZTQq7",
    "outputId": "eea7991a-3cec-4f1a-90f6-683892db3191"
   },
   "outputs": [
    {
     "name": "stderr",
     "output_type": "stream",
     "text": [
      "<ipython-input-94-bf83ec30bc0b>:1: FutureWarning: You are using `torch.load` with `weights_only=False` (the current default value), which uses the default pickle module implicitly. It is possible to construct malicious pickle data which will execute arbitrary code during unpickling (See https://github.com/pytorch/pytorch/blob/main/SECURITY.md#untrusted-models for more details). In a future release, the default value for `weights_only` will be flipped to `True`. This limits the functions that could be executed during unpickling. Arbitrary objects will no longer be allowed to be loaded via this mode unless they are explicitly allowlisted by the user via `torch.serialization.add_safe_globals`. We recommend you start setting `weights_only=True` for any use case where you don't have full control of the loaded file. Please open an issue on GitHub for any issues related to this experimental feature.\n",
      "  model = torch.load('bert_model_bbc')\n"
     ]
    }
   ],
   "source": [
    "model = torch.load('bert_model_bbc')"
   ]
  },
  {
   "cell_type": "markdown",
   "metadata": {
    "id": "EXToSitDt6kX"
   },
   "source": [
    "## Test"
   ]
  },
  {
   "cell_type": "code",
   "execution_count": 98,
   "metadata": {
    "colab": {
     "base_uri": "https://localhost:8080/"
    },
    "executionInfo": {
     "elapsed": 4090,
     "status": "ok",
     "timestamp": 1733159051400,
     "user": {
      "displayName": "Walter Di Sabatino",
      "userId": "03659477704223957380"
     },
     "user_tz": -60
    },
    "id": "59TnFvwLt6kX",
    "outputId": "72671d6b-ff9c-4de5-d7a6-f1a074147d41"
   },
   "outputs": [
    {
     "name": "stderr",
     "output_type": "stream",
     "text": [
      "/usr/local/lib/python3.10/dist-packages/transformers/tokenization_utils_base.py:2834: FutureWarning: The `pad_to_max_length` argument is deprecated and will be removed in a future version, use `padding=True` or `padding='longest'` to pad to the longest sequence in the batch, or use `padding='max_length'` to pad to a max length. In this case, you can give a specific length with `max_length` (e.g. `max_length=45`) or leave max_length to None to pad to the maximal input size of the model (e.g. 512 for Bert).\n",
      "  warnings.warn(\n"
     ]
    }
   ],
   "source": [
    "# Create sentence and label lists\n",
    "sentences = list(df_test['text'])\n",
    "labels = list(df_test['label'])\n",
    "MAX_LEN = 128\n",
    "\n",
    "# Tokenize all of the sentences and map the tokens to thier word IDs.\n",
    "input_ids = []\n",
    "attention_masks = []\n",
    "\n",
    "# For every sentence...\n",
    "for sent in sentences:\n",
    "    # `encode_plus` will:\n",
    "    #   (1) Tokenize the sentence.\n",
    "    #   (2) Prepend the `[CLS]` token to the start.\n",
    "    #   (3) Append the `[SEP]` token to the end.\n",
    "    #   (4) Map tokens to their IDs.\n",
    "    #   (5) Pad or truncate the sentence to `max_length`\n",
    "    #   (6) Create attention masks for [PAD] tokens.\n",
    "    encoded_dict = tokenizer.encode_plus(\n",
    "                        sent,                      # Sentence to encode.\n",
    "                        add_special_tokens = True, # Add '[CLS]' and '[SEP]'\n",
    "                        max_length = MAX_LEN,           # Pad & truncate all sentences.\n",
    "                        pad_to_max_length = True,\n",
    "                        return_attention_mask = True,   # Construct attn. masks.\n",
    "                        return_tensors = 'pt',     # Return pytorch tensors.\n",
    "                   )\n",
    "\n",
    "\n",
    "    # Add the encoded sentence to the list.\n",
    "    input_ids.append(encoded_dict['input_ids'])\n",
    "\n",
    "    # And its attention mask (simply differentiates padding from non-padding).\n",
    "    attention_masks.append(encoded_dict['attention_mask'])\n",
    "\n",
    "# Convert the lists into tensors.\n",
    "input_ids = torch.cat(input_ids, dim=0)\n",
    "attention_masks = torch.cat(attention_masks, dim=0)\n",
    "labels = torch.tensor(labels)\n",
    "\n",
    "# Set the batch size.\n",
    "batch_size = 32\n",
    "\n",
    "# Create the DataLoader.\n",
    "prediction_data = TensorDataset(input_ids, attention_masks, labels)\n",
    "prediction_sampler = SequentialSampler(prediction_data)\n",
    "prediction_dataloader = DataLoader(prediction_data, sampler=prediction_sampler, batch_size=batch_size)"
   ]
  },
  {
   "cell_type": "code",
   "execution_count": 99,
   "metadata": {
    "colab": {
     "base_uri": "https://localhost:8080/"
    },
    "executionInfo": {
     "elapsed": 12927,
     "status": "ok",
     "timestamp": 1733159089816,
     "user": {
      "displayName": "Walter Di Sabatino",
      "userId": "03659477704223957380"
     },
     "user_tz": -60
    },
    "id": "sU9aEs-bt6kY",
    "outputId": "8201e32c-bce5-4b5c-cf16-ec865a24a2dd"
   },
   "outputs": [
    {
     "name": "stdout",
     "output_type": "stream",
     "text": [
      "Predicting labels for 2,000 test sentences...\n",
      "    DONE.\n"
     ]
    }
   ],
   "source": [
    "# Prediction on test set\n",
    "print('Predicting labels for {:,} test sentences...'.format(len(input_ids)))\n",
    "\n",
    "\n",
    "model.eval()\n",
    "\n",
    "# Tracking variables\n",
    "predictions , true_labels = [], []\n",
    "\n",
    "# Predict\n",
    "for batch in prediction_dataloader:\n",
    "    # Add batch to GPU\n",
    "    batch = tuple(t.to(device) for t in batch)\n",
    "\n",
    "    # Unpack the inputs from our dataloader\n",
    "    b_input_ids, b_input_mask, b_labels = batch\n",
    "\n",
    "    # Telling the model not to compute or store gradients, saving memory and\n",
    "    # speeding up prediction\n",
    "    with torch.no_grad():\n",
    "      # Forward pass, calculate logit predictions\n",
    "      outputs = model(b_input_ids, token_type_ids=None,\n",
    "                      attention_mask=b_input_mask)\n",
    "\n",
    "    logits = outputs[0]\n",
    "\n",
    "    # Move logits and labels to CPU\n",
    "    logits = logits.detach().cpu().numpy()\n",
    "    label_ids = b_labels.to('cpu').numpy()\n",
    "\n",
    "    # Store predictions and true labels\n",
    "    predictions.append(logits)\n",
    "    true_labels.append(label_ids)\n",
    "\n",
    "print('    DONE.')"
   ]
  },
  {
   "cell_type": "code",
   "execution_count": 100,
   "metadata": {
    "colab": {
     "base_uri": "https://localhost:8080/"
    },
    "executionInfo": {
     "elapsed": 242,
     "status": "ok",
     "timestamp": 1733159095050,
     "user": {
      "displayName": "Walter Di Sabatino",
      "userId": "03659477704223957380"
     },
     "user_tz": -60
    },
    "id": "x642C8Qet6kY",
    "outputId": "12aa90b4-1d97-49b5-cbf0-fa1ffade4ce1"
   },
   "outputs": [
    {
     "data": {
      "text/plain": [
       "0.9185"
      ]
     },
     "execution_count": 100,
     "metadata": {},
     "output_type": "execute_result"
    }
   ],
   "source": [
    "from functools import reduce\n",
    "scores = reduce(lambda x,y: x+y,[list(map(np.argmax,p)) for p in predictions])\n",
    "labels = reduce(lambda x,y: list(x) + list(y), true_labels)\n",
    "\n",
    "from sklearn.metrics import accuracy_score\n",
    "accuracy_score(scores, labels)"
   ]
  },
  {
   "cell_type": "markdown",
   "metadata": {
    "id": "9slDN2GQTaZZ"
   },
   "source": [
    "## Confusion matrix"
   ]
  },
  {
   "cell_type": "code",
   "execution_count": 101,
   "metadata": {
    "executionInfo": {
     "elapsed": 235,
     "status": "ok",
     "timestamp": 1733159097815,
     "user": {
      "displayName": "Walter Di Sabatino",
      "userId": "03659477704223957380"
     },
     "user_tz": -60
    },
    "id": "TC8EPHwtTdaB"
   },
   "outputs": [],
   "source": [
    "import numpy as np\n",
    "\n",
    "\n",
    "def plot_confusion_matrix(cm,\n",
    "                          target_names,\n",
    "                          title='Confusion matrix',\n",
    "                          cmap=None,\n",
    "                          normalize=True):\n",
    "    \"\"\"\n",
    "    given a sklearn confusion matrix (cm), make a nice plot\n",
    "\n",
    "    Arguments\n",
    "    ---------\n",
    "    cm:           confusion matrix from sklearn.metrics.confusion_matrix\n",
    "\n",
    "    target_names: given classification classes such as [0, 1, 2]\n",
    "                  the class names, for example: ['high', 'medium', 'low']\n",
    "\n",
    "    title:        the text to display at the top of the matrix\n",
    "\n",
    "    cmap:         the gradient of the values displayed from matplotlib.pyplot.cm\n",
    "                  see http://matplotlib.org/examples/color/colormaps_reference.html\n",
    "                  plt.get_cmap('jet') or plt.cm.Blues\n",
    "\n",
    "    normalize:    If False, plot the raw numbers\n",
    "                  If True, plot the proportions\n",
    "\n",
    "    Usage\n",
    "    -----\n",
    "    plot_confusion_matrix(cm           = cm,                  # confusion matrix created by\n",
    "                                                              # sklearn.metrics.confusion_matrix\n",
    "                          normalize    = True,                # show proportions\n",
    "                          target_names = y_labels_vals,       # list of names of the classes\n",
    "                          title        = best_estimator_name) # title of graph\n",
    "\n",
    "    Citiation\n",
    "    ---------\n",
    "    http://scikit-learn.org/stable/auto_examples/model_selection/plot_confusion_matrix.html\n",
    "\n",
    "    \"\"\"\n",
    "    import matplotlib.pyplot as plt\n",
    "    import numpy as np\n",
    "    import itertools\n",
    "\n",
    "    accuracy = np.trace(cm) / float(np.sum(cm))\n",
    "    misclass = 1 - accuracy\n",
    "\n",
    "    if cmap is None:\n",
    "        cmap = plt.get_cmap('Blues')\n",
    "\n",
    "    plt.figure(figsize=(8, 6))\n",
    "    plt.imshow(cm, interpolation='nearest', cmap=cmap)\n",
    "    plt.title(title)\n",
    "    plt.colorbar()\n",
    "\n",
    "    if target_names is not None:\n",
    "        tick_marks = np.arange(len(target_names))\n",
    "        plt.xticks(tick_marks, target_names, rotation=45)\n",
    "        plt.yticks(tick_marks, target_names)\n",
    "\n",
    "    if normalize:\n",
    "        cm = cm.astype('float') / cm.sum(axis=1)[:, np.newaxis]\n",
    "\n",
    "\n",
    "    thresh = cm.max() / 1.5 if normalize else cm.max() / 2\n",
    "    for i, j in itertools.product(range(cm.shape[0]), range(cm.shape[1])):\n",
    "        if normalize:\n",
    "            plt.text(j, i, \"{:0.4f}\".format(cm[i, j]),\n",
    "                     horizontalalignment=\"center\",\n",
    "                     color=\"white\" if cm[i, j] > thresh else \"black\")\n",
    "        else:\n",
    "            plt.text(j, i, \"{:,}\".format(cm[i, j]),\n",
    "                     horizontalalignment=\"center\",\n",
    "                     color=\"white\" if cm[i, j] > thresh else \"black\")\n",
    "\n",
    "\n",
    "    plt.tight_layout()\n",
    "    plt.ylabel('True label')\n",
    "    plt.xlabel('Predicted label\\naccuracy={:0.4f}; misclass={:0.4f}'.format(accuracy, misclass))\n",
    "    plt.show()"
   ]
  },
  {
   "cell_type": "code",
   "execution_count": 103,
   "metadata": {
    "colab": {
     "base_uri": "https://localhost:8080/",
     "height": 645
    },
    "executionInfo": {
     "elapsed": 1798,
     "status": "ok",
     "timestamp": 1733159119038,
     "user": {
      "displayName": "Walter Di Sabatino",
      "userId": "03659477704223957380"
     },
     "user_tz": -60
    },
    "id": "Gb8JBGRxTf-r",
    "outputId": "9e38efbc-21e2-4fe9-c825-aed8d5059b86"
   },
   "outputs": [
    {
     "data": {
      "image/png": "[encoded data removed]",
      "text/plain": [
       "<Figure size 800x600 with 2 Axes>"
      ]
     },
     "metadata": {},
     "output_type": "display_data"
    }
   ],
   "source": [
    "from sklearn.metrics import confusion_matrix\n",
    "\n",
    "sns.set(font_scale=1)\n",
    "sns.set(style='white')\n",
    "\n",
    "\n",
    "cm = confusion_matrix(labels,scores)\n",
    "plot_confusion_matrix(cm           = cm,\n",
    "                      normalize    = True,\n",
    "                      target_names = ['0', '1', '2','3'],\n",
    "                      title        = \"Confusion Matrix, Normalized\")"
   ]
  }
 ],
 "metadata": {
  "accelerator": "GPU",
  "colab": {
   "gpuType": "T4",
   "provenance": []
  },
  "kernelspec": {
   "display_name": "Python 3",
   "name": "python3"
  },
  "language_info": {
   "codemirror_mode": {
    "name": "ipython",
    "version": 3
   },
   "file_extension": ".py",
   "mimetype": "text/x-python",
   "name": "python",
   "nbconvert_exporter": "python",
   "pygments_lexer": "ipython3",
   "version": "3.12.3"
  }
 },
 "nbformat": 4,
 "nbformat_minor": 0
}
