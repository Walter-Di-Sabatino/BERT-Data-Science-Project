{
 "cells": [
  {
   "cell_type": "code",
   "execution_count": 13,
   "metadata": {},
   "outputs": [],
   "source": [
    "import pandas as pd\n",
    "import json"
   ]
  },
  {
   "cell_type": "code",
   "execution_count": null,
   "metadata": {},
   "outputs": [],
   "source": [
    "splits = {'train': 'data/train-00000-of-00001.parquet', 'test': 'data/test-00000-of-00001.parquet'}\n",
    "df = pd.read_parquet(\"hf://datasets/wangrongsheng/ag_news/\" + splits[\"train\"])\n",
    "df_test = pd.read_parquet(\"hf://datasets/wangrongsheng/ag_news/\" + splits[\"test\"])\n"
   ]
  },
  {
   "cell_type": "code",
   "execution_count": 12,
   "metadata": {},
   "outputs": [
    {
     "data": {
      "text/plain": [
       "label\n",
       "2    30000\n",
       "3    30000\n",
       "1    30000\n",
       "0    30000\n",
       "Name: count, dtype: int64"
      ]
     },
     "execution_count": 12,
     "metadata": {},
     "output_type": "execute_result"
    }
   ],
   "source": [
    "# World (0), Sports (1), Business (2), Sci/Tech (3).\n",
    "\n",
    "df['label'].value_counts()"
   ]
  },
  {
   "cell_type": "code",
   "execution_count": 38,
   "metadata": {},
   "outputs": [],
   "source": [
    "# Carica il file JSON come JSON Lines\n",
    "df = pd.read_json('dataset.json', lines=True)\n"
   ]
  },
  {
   "cell_type": "code",
   "execution_count": 39,
   "metadata": {},
   "outputs": [
    {
     "data": {
      "text/plain": [
       "209527"
      ]
     },
     "execution_count": 39,
     "metadata": {},
     "output_type": "execute_result"
    }
   ],
   "source": [
    "len(df)"
   ]
  },
  {
   "cell_type": "code",
   "execution_count": 40,
   "metadata": {},
   "outputs": [],
   "source": [
    "df = df[df['short_description'].str.len() >= 100]"
   ]
  },
  {
   "cell_type": "code",
   "execution_count": 41,
   "metadata": {},
   "outputs": [
    {
     "data": {
      "text/plain": [
       "121699"
      ]
     },
     "execution_count": 41,
     "metadata": {},
     "output_type": "execute_result"
    }
   ],
   "source": [
    "len(df)"
   ]
  },
  {
   "cell_type": "code",
   "execution_count": 42,
   "metadata": {},
   "outputs": [
    {
     "data": {
      "text/plain": [
       "category\n",
       "WELLNESS          17742\n",
       "POLITICS          15395\n",
       "STYLE & BEAUTY     8668\n",
       "PARENTING          8407\n",
       "TRAVEL             8348\n",
       "ENTERTAINMENT      5077\n",
       "BUSINESS           4048\n",
       "WEDDINGS           3545\n",
       "DIVORCE            3253\n",
       "QUEER VOICES       3247\n",
       "HEALTHY LIVING     3226\n",
       "FOOD & DRINK       3088\n",
       "HOME & LIVING      2857\n",
       "IMPACT             2506\n",
       "BLACK VOICES       2272\n",
       "PARENTS            1851\n",
       "WOMEN              1807\n",
       "WORLD NEWS         1800\n",
       "SPORTS             1690\n",
       "MONEY              1687\n",
       "COMEDY             1679\n",
       "THE WORLDPOST      1520\n",
       "ENVIRONMENT        1386\n",
       "CRIME              1369\n",
       "GREEN              1359\n",
       "RELIGION           1299\n",
       "WORLDPOST          1222\n",
       "TECH               1192\n",
       "MEDIA              1166\n",
       "SCIENCE            1164\n",
       "FIFTY              1028\n",
       "CULTURE & ARTS     1022\n",
       "U.S. NEWS          1001\n",
       "ARTS                850\n",
       "EDUCATION           816\n",
       "TASTE               671\n",
       "COLLEGE             657\n",
       "LATINO VOICES       447\n",
       "STYLE               378\n",
       "ARTS & CULTURE      347\n",
       "WEIRD NEWS          329\n",
       "GOOD NEWS           283\n",
       "Name: count, dtype: int64"
      ]
     },
     "execution_count": 42,
     "metadata": {},
     "output_type": "execute_result"
    }
   ],
   "source": [
    "df['category'].value_counts()"
   ]
  }
 ],
 "metadata": {
  "kernelspec": {
   "display_name": "Python 3",
   "language": "python",
   "name": "python3"
  },
  "language_info": {
   "codemirror_mode": {
    "name": "ipython",
    "version": 3
   },
   "file_extension": ".py",
   "mimetype": "text/x-python",
   "name": "python",
   "nbconvert_exporter": "python",
   "pygments_lexer": "ipython3",
   "version": "3.12.3"
  }
 },
 "nbformat": 4,
 "nbformat_minor": 2
}
